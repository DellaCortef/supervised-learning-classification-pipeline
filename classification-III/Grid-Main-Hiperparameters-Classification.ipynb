{
 "cells": [
  {
   "cell_type": "code",
   "execution_count": 5,
   "id": "a4447c68",
   "metadata": {},
   "outputs": [],
   "source": [
    "# Import libs\n",
    "import os\n",
    "import time\n",
    "import pandas as pd\n",
    "\n",
    "# Pipeline lib\n",
    "from sklearn.pipeline import Pipeline\n",
    "\n",
    "# feature-engine libs\n",
    "from feature_engine.encoding import OneHotEncoder\n",
    "from feature_engine.imputation import CategoricalImputer\n",
    "from feature_engine.imputation import ArbitraryNumberImputer\n",
    "\n",
    "# machine learning models\n",
    "from xgboost import XGBClassifier\n",
    "from lightgbm import LGBMClassifier\n",
    "from sklearn.utils.fixes import loguniform\n",
    "from sklearn.tree import DecisionTreeClassifier\n",
    "from sklearn.ensemble import RandomForestClassifier\n",
    "from sklearn.model_selection import RandomizedSearchCV\n",
    "\n",
    "# trainning models\n",
    "from sklearn.model_selection import GridSearchCV"
   ]
  },
  {
   "cell_type": "code",
   "execution_count": 6,
   "id": "7e6966cc",
   "metadata": {},
   "outputs": [],
   "source": [
    "# Read the dataset\n",
    "df_abt = pd.read_csv('/Users/dellacorte/py-projects/data-science/supervised-learning-pipeline-reference/databases/propensao_revenda_abt.csv')\n",
    "\n",
    "# pega a base de treinamento\n",
    "df_train = df_abt.query('data_ref_safra < \"2018-03-01\"')\n",
    "\n",
    "# pega a base de avaliação (out of time)\n",
    "df_oot   = df_abt.query('data_ref_safra == \"2018-03-01\"')\n",
    "\n",
    "key_vars = ['data_ref_safra', 'seller_id']\n",
    "num_vars = ['tot_orders_12m', 'tot_items_12m', 'tot_items_dist_12m', 'receita_12m', 'recencia']\n",
    "cat_vars = ['uf']\n",
    "target = 'nao_revendeu_next_6m'\n",
    "\n",
    "features = cat_vars + num_vars\n",
    "\n",
    "# dados de treinamento\n",
    "X_train = df_train[features]\n",
    "y_train = df_train[target]\n",
    "\n",
    "# dados de avaliação (out of time)\n",
    "X_oot = df_oot[features]\n",
    "y_oot = df_oot[target]"
   ]
  },
  {
   "cell_type": "code",
   "execution_count": 7,
   "id": "7c59e508",
   "metadata": {},
   "outputs": [],
   "source": [
    "datapipe = [\n",
    "            ('numeric_imputer', ArbitraryNumberImputer(variables=num_vars, arbitrary_number=-999)),\n",
    "            ('categoric_imputer', CategoricalImputer(variables=cat_vars, return_object=True)),\n",
    "            ('one_hot_encoder', OneHotEncoder(variables=cat_vars))\n",
    "]"
   ]
  },
  {
   "cell_type": "markdown",
   "id": "cf8714ff",
   "metadata": {},
   "source": [
    "### Decision Tree\n",
    "\n",
    "The main hyperparameters that we can use in GridSearch:\n",
    "\n",
    "* `max_depth`: Depth of the tree. The default value will be to build the tree until the leaves contain less than the value defined in `min_samples_split`. Possible values: `2, 3, 4, 5, 6, 7, ...`.\n",
    "* `criterion`: Tree separation function. Possible values: `gini` and `entropy`.\n",
    "* `class_weight`: weights of classes in a dictionary. The `balanced` value will define values ​​in inverse proportion to the class frequencies. Possible values: `balanced` and `None`.\n",
    "* `min_samples_split`: Minimum number of samples required to split a node. Default value is 2."
   ]
  },
  {
   "cell_type": "code",
   "execution_count": 8,
   "id": "5fa1279f",
   "metadata": {},
   "outputs": [
    {
     "name": "stdout",
     "output_type": "stream",
     "text": [
      "Fitting 5 folds for each of 40 candidates, totalling 200 fits\n",
      "\n",
      "====================================================================================================\n",
      "{'decision_tree__class_weight': None, 'decision_tree__criterion': 'entropy', 'decision_tree__max_depth': 4, 'decision_tree__min_samples_split': 2}\n",
      "\n",
      "It took 3.8964040279388428 seconds for GridSearch to Decision Tree\n",
      "====================================================================================================\n",
      "\n"
     ]
    }
   ],
   "source": [
    "t1 = time.time()\n",
    "\n",
    "pipeline = Pipeline(steps=datapipe + [('decision_tree', DecisionTreeClassifier())])\n",
    "\n",
    "parametros = {\n",
    "  'decision_tree__max_depth': [1, 2, 3, 4, 5, 6, 7, 8, 9, 10],\n",
    "  'decision_tree__criterion': ['gini', 'entropy'],\n",
    "  'decision_tree__class_weight': ['balanced', None],\n",
    "  'decision_tree__min_samples_split': [2],\n",
    "}\n",
    "\n",
    "grid_search = GridSearchCV(pipeline, parametros, scoring='roc_auc', cv=5, n_jobs=-1, verbose=1)\n",
    "grid_search.fit(X_train, y_train)\n",
    "\n",
    "print()\n",
    "print('='*100)\n",
    "print(grid_search.best_params_)\n",
    "print('\\nIt took {} seconds for GridSearch to Decision Tree'.format(time.time() - t1))\n",
    "print('='*100)\n",
    "print()"
   ]
  },
  {
   "cell_type": "markdown",
   "id": "24d8b9d9",
   "metadata": {},
   "source": [
    "### Random Forest\n",
    "\n",
    "The main hyperparameters that we can use in GridSearch:\n",
    "\n",
    "* `n_estimators`: Random number of trees in the forest. Possible values: `120, 300, 500, 800, 1200`.\n",
    "* `max_depth`: Depth of the tree. The default value will be to build the tree until the leaves contain less than the value defined in `min_samples_split`. Possible values: `5, 8, 15, 25, 30, None`.\n",
    "* `max_features`: Number of attributes (characteristics) to analyze in the separation. The default is all (`auto`).\n",
    "Possible values: `log2, sqrt, None`.\n",
    "* `min_samples_split`: Minimum number of samples required to split a node. Default value is 2. Possible values: `2, 5, 10, 15, 100`.\n",
    "\n",
    "* `min_samples_leaf`: Minimum number of samples in each leaf. Default value is 1. Possible values: `1, 2, 5, 10`.\n",
    "\n",
    "* `class_weight`: weights of classes in a dictionary. The `balanced` value will define values ​​in inverse proportion to the class frequencies. Possible values: `balanced` and `None`."
   ]
  },
  {
   "cell_type": "code",
   "execution_count": null,
   "id": "18665775",
   "metadata": {},
   "outputs": [],
   "source": []
  },
  {
   "cell_type": "code",
   "execution_count": null,
   "id": "e068621f",
   "metadata": {},
   "outputs": [],
   "source": []
  }
 ],
 "metadata": {
  "kernelspec": {
   "display_name": "Python 3 (ipykernel)",
   "language": "python",
   "name": "python3"
  },
  "language_info": {
   "codemirror_mode": {
    "name": "ipython",
    "version": 3
   },
   "file_extension": ".py",
   "mimetype": "text/x-python",
   "name": "python",
   "nbconvert_exporter": "python",
   "pygments_lexer": "ipython3",
   "version": "3.9.13"
  }
 },
 "nbformat": 4,
 "nbformat_minor": 5
}
