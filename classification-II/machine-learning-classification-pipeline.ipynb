{
 "cells": [
  {
   "cell_type": "code",
   "execution_count": 1,
   "id": "9906f694",
   "metadata": {},
   "outputs": [
    {
     "name": "stdout",
     "output_type": "stream",
     "text": [
      "Collecting numpy\n",
      "  Using cached numpy-2.0.2-cp39-cp39-macosx_10_9_x86_64.whl (21.2 MB)\n",
      "Collecting pandas\n",
      "  Using cached pandas-2.2.3-cp39-cp39-macosx_10_9_x86_64.whl (12.6 MB)\n",
      "Collecting tzdata>=2022.7\n",
      "  Using cached tzdata-2024.2-py2.py3-none-any.whl (346 kB)\n",
      "Collecting pytz>=2020.1\n",
      "  Using cached pytz-2024.2-py2.py3-none-any.whl (508 kB)\n",
      "Collecting python-dateutil>=2.8.2\n",
      "  Using cached python_dateutil-2.9.0.post0-py2.py3-none-any.whl (229 kB)\n",
      "Collecting six>=1.5\n",
      "  Using cached six-1.17.0-py2.py3-none-any.whl (11 kB)\n",
      "Installing collected packages: pytz, tzdata, six, numpy, python-dateutil, pandas\n",
      "  Attempting uninstall: pytz\n",
      "    Found existing installation: pytz 2024.2\n",
      "    Uninstalling pytz-2024.2:\n",
      "      Successfully uninstalled pytz-2024.2\n",
      "  Attempting uninstall: tzdata\n",
      "    Found existing installation: tzdata 2024.2\n",
      "    Uninstalling tzdata-2024.2:\n",
      "      Successfully uninstalled tzdata-2024.2\n",
      "  Attempting uninstall: six\n",
      "    Found existing installation: six 1.17.0\n",
      "    Uninstalling six-1.17.0:\n",
      "      Successfully uninstalled six-1.17.0\n",
      "  Attempting uninstall: numpy\n",
      "    Found existing installation: numpy 2.0.2\n",
      "    Uninstalling numpy-2.0.2:\n",
      "      Successfully uninstalled numpy-2.0.2\n",
      "  Attempting uninstall: python-dateutil\n",
      "    Found existing installation: python-dateutil 2.9.0.post0\n",
      "    Uninstalling python-dateutil-2.9.0.post0:\n",
      "      Successfully uninstalled python-dateutil-2.9.0.post0\n",
      "  Attempting uninstall: pandas\n",
      "    Found existing installation: pandas 1.3.0\n",
      "    Uninstalling pandas-1.3.0:\n",
      "      Successfully uninstalled pandas-1.3.0\n",
      "\u001b[31mERROR: pip's dependency resolver does not currently take into account all the packages that are installed. This behaviour is the source of the following dependency conflicts.\n",
      "daal4py 2021.6.0 requires daal==2021.4.0, which is not installed.\n",
      "ydata-profiling 4.8.3 requires numpy<2,>=1.16.0, but you have numpy 2.0.2 which is incompatible.\n",
      "scprep 1.2.3 requires pandas<2.1,>=0.25, but you have pandas 2.2.3 which is incompatible.\n",
      "pdpbox 0.3.0 requires matplotlib>=3.6.2, but you have matplotlib 3.4.3 which is incompatible.\n",
      "mxnet 1.9.1 requires numpy<2.0.0,>1.16.0, but you have numpy 2.0.2 which is incompatible.\n",
      "dtreeviz 2.2.1 requires graphviz>=0.9, but you have graphviz 0.8.4 which is incompatible.\n",
      "conda-repo-cli 1.0.20 requires clyent==1.2.1, but you have clyent 1.2.2 which is incompatible.\n",
      "conda-repo-cli 1.0.20 requires nbformat==5.4.0, but you have nbformat 5.5.0 which is incompatible.\n",
      "conda-repo-cli 1.0.20 requires python-dateutil==2.8.2, but you have python-dateutil 2.9.0.post0 which is incompatible.\u001b[0m\u001b[31m\n",
      "\u001b[0mSuccessfully installed numpy-2.0.2 pandas-2.2.3 python-dateutil-2.9.0.post0 pytz-2024.2 six-1.17.0 tzdata-2024.2\n",
      "Collecting numpy==1.21\n",
      "  Using cached numpy-1.21.0-cp39-cp39-macosx_10_9_x86_64.whl (16.9 MB)\n",
      "Collecting pandas==1.3\n",
      "  Using cached pandas-1.3.0-cp39-cp39-macosx_10_9_x86_64.whl (11.6 MB)\n",
      "Requirement already satisfied: python-dateutil>=2.7.3 in /Users/dellacorte/opt/anaconda3/lib/python3.9/site-packages (from pandas==1.3) (2.9.0.post0)\n",
      "Requirement already satisfied: pytz>=2017.3 in /Users/dellacorte/opt/anaconda3/lib/python3.9/site-packages (from pandas==1.3) (2024.2)\n",
      "Requirement already satisfied: six>=1.5 in /Users/dellacorte/opt/anaconda3/lib/python3.9/site-packages (from python-dateutil>=2.7.3->pandas==1.3) (1.17.0)\n",
      "Installing collected packages: numpy, pandas\n",
      "  Attempting uninstall: numpy\n",
      "    Found existing installation: numpy 2.0.2\n",
      "    Uninstalling numpy-2.0.2:\n",
      "      Successfully uninstalled numpy-2.0.2\n",
      "  Attempting uninstall: pandas\n",
      "    Found existing installation: pandas 2.2.3\n",
      "    Uninstalling pandas-2.2.3:\n",
      "      Successfully uninstalled pandas-2.2.3\n",
      "\u001b[31mERROR: pip's dependency resolver does not currently take into account all the packages that are installed. This behaviour is the source of the following dependency conflicts.\n",
      "daal4py 2021.6.0 requires daal==2021.4.0, which is not installed.\n",
      "visions 0.7.6 requires numpy>=1.23.2, but you have numpy 1.21.0 which is incompatible.\n",
      "visions 0.7.6 requires pandas>=2.0.0, but you have pandas 1.3.0 which is incompatible.\n",
      "scipy 1.13.1 requires numpy<2.3,>=1.22.4, but you have numpy 1.21.0 which is incompatible.\n",
      "pdpbox 0.3.0 requires matplotlib>=3.6.2, but you have matplotlib 3.4.3 which is incompatible.\n",
      "pdpbox 0.3.0 requires numpy>=1.21.5, but you have numpy 1.21.0 which is incompatible.\n",
      "pdpbox 0.3.0 requires pandas>=1.4.4, but you have pandas 1.3.0 which is incompatible.\n",
      "numba 0.60.0 requires numpy<2.1,>=1.22, but you have numpy 1.21.0 which is incompatible.\n",
      "dtreeviz 2.2.1 requires graphviz>=0.9, but you have graphviz 0.8.4 which is incompatible.\n",
      "dask-expr 1.1.10 requires pandas>=2, but you have pandas 1.3.0 which is incompatible.\n",
      "cesium 0.12.3 requires numpy<3.0,>=2.0, but you have numpy 1.21.0 which is incompatible.\u001b[0m\u001b[31m\n",
      "\u001b[0mSuccessfully installed numpy-1.21.0 pandas-1.3.0\n"
     ]
    }
   ],
   "source": [
    "# installing libs\n",
    "!pip install --force-reinstall numpy pandas\n",
    "!pip install numpy==1.21 pandas==1.3\n",
    "#!pip install feature-engine"
   ]
  },
  {
   "cell_type": "code",
   "execution_count": 9,
   "id": "3d9f1d20",
   "metadata": {},
   "outputs": [],
   "source": [
    "# importing libs\n",
    "import os\n",
    "import pandas as pd\n",
    "\n",
    "# pipeline libs\n",
    "from sklearn.pipeline import Pipeline\n",
    "\n",
    "# feature-engine libs\n",
    "from feature_engine.encoding import OneHotEncoder\n",
    "from feature_engine.imputation import CategoricalImputer\n",
    "from feature_engine.imputation import ArbitraryNumberImputer\n",
    "\n",
    "# trainning models\n",
    "from sklearn.model_selection import GridSearchCV\n",
    "\n",
    "# machine learning libs\n",
    "from sklearn.tree import DecisionTreeClassifier\n",
    "\n",
    "# machine learning metrics\n",
    "from sklearn.metrics import roc_auc_score"
   ]
  },
  {
   "cell_type": "code",
   "execution_count": 3,
   "id": "5271ae6c",
   "metadata": {},
   "outputs": [
    {
     "name": "stdout",
     "output_type": "stream",
     "text": [
      "Current Directory: /Users/dellacorte/py-projects/data-science/supervised-learning-pipeline-reference/classification-II\n"
     ]
    }
   ],
   "source": [
    "# Get the current working directory\n",
    "current_directory = os.getcwd()\n",
    "print(\"Current Directory:\", current_directory)"
   ]
  },
  {
   "cell_type": "code",
   "execution_count": 4,
   "id": "d4bc42dc",
   "metadata": {},
   "outputs": [],
   "source": [
    "# Read the dataset\n",
    "df_abt = pd.read_csv('/Users/dellacorte/py-projects/data-science/supervised-learning-pipeline-reference/databases/propensao_revenda_abt.csv')\n",
    "df_abt.head() \n",
    "\n",
    "# get the training base\n",
    "df_train = df_abt.query('data_ref_safra < \"2018-03-01\"')\n",
    "\n",
    "# get the evaluation base (out of time)\n",
    "df_oot = df_abt.query('data_ref_safra == \"2018-03-01\"')\n",
    "\n",
    "key_vars = ['data_ref_safra', 'seller_id']\n",
    "num_vars = ['tot_orders_12m', 'tot_items_12m', 'tot_items_dist_12m', 'receita_12m', 'recencia']\n",
    "cat_vars = ['uf']\n",
    "target = 'nao_revendeu_next_6m'\n",
    "\n",
    "features = cat_vars + num_vars\n",
    "\n",
    "# training data\n",
    "X_train = df_train[features]\n",
    "y_train = df_train[target]\n",
    "\n",
    "# evaluation data (out of time)\n",
    "X_oot = df_oot[features]\n",
    "y_oot = df_oot[target]"
   ]
  },
  {
   "cell_type": "code",
   "execution_count": 5,
   "id": "7cb7083b",
   "metadata": {},
   "outputs": [],
   "source": [
    "dt = Pipeline(steps=[\n",
    "    ('numeric_imputer', ArbitraryNumberImputer(variables=num_vars, arbitrary_number=-999)),\n",
    "    ('categoric_imputer', CategoricalImputer(variables=cat_vars, return_object=True)),\n",
    "    ('one_hot_encoder', OneHotEncoder(variables=cat_vars)),\n",
    "    ('Decision_Tree', DecisionTreeClassifier(random_state=42,)) \n",
    "])"
   ]
  },
  {
   "cell_type": "code",
   "execution_count": 6,
   "id": "9bf6e178",
   "metadata": {},
   "outputs": [
    {
     "data": {
      "text/plain": [
       "Pipeline(steps=[('numeric_imputer',\n",
       "                 ArbitraryNumberImputer(arbitrary_number=-999,\n",
       "                                        variables=['tot_orders_12m',\n",
       "                                                   'tot_items_12m',\n",
       "                                                   'tot_items_dist_12m',\n",
       "                                                   'receita_12m',\n",
       "                                                   'recencia'])),\n",
       "                ('categoric_imputer',\n",
       "                 CategoricalImputer(return_object=True, variables=['uf'])),\n",
       "                ('one_hot_encoder', OneHotEncoder(variables=['uf'])),\n",
       "                ('Decision_Tree', DecisionTreeClassifier(random_state=42))])"
      ]
     },
     "execution_count": 6,
     "metadata": {},
     "output_type": "execute_result"
    }
   ],
   "source": [
    "dt.fit(X_train, y_train)"
   ]
  },
  {
   "cell_type": "code",
   "execution_count": 7,
   "id": "e86508f2",
   "metadata": {},
   "outputs": [
    {
     "name": "stdout",
     "output_type": "stream",
     "text": [
      "ROC_AUC for training with default parameters: 0.9996246246246246\n",
      "ROC_AUC for oot with default parameters: 0.7831532768042844\n"
     ]
    }
   ],
   "source": [
    "print('ROC_AUC for training with default parameters:', roc_auc_score(y_train, dt.predict(X_train)))\n",
    "print('ROC_AUC for oot with default parameters:', roc_auc_score(y_oot, dt.predict(X_oot)))"
   ]
  },
  {
   "cell_type": "code",
   "execution_count": 10,
   "id": "d88296ae",
   "metadata": {},
   "outputs": [
    {
     "ename": "NameError",
     "evalue": "name 'paramerts' is not defined",
     "output_type": "error",
     "traceback": [
      "\u001b[0;31m---------------------------------------------------------------------------\u001b[0m",
      "\u001b[0;31mNameError\u001b[0m                                 Traceback (most recent call last)",
      "\u001b[0;32m/var/folders/vb/yxjjx1m94n93ty4t50m8f2b40000gn/T/ipykernel_47015/1850387608.py\u001b[0m in \u001b[0;36m<module>\u001b[0;34m\u001b[0m\n\u001b[1;32m      4\u001b[0m }\n\u001b[1;32m      5\u001b[0m \u001b[0;34m\u001b[0m\u001b[0m\n\u001b[0;32m----> 6\u001b[0;31m \u001b[0mgrid_search\u001b[0m \u001b[0;34m=\u001b[0m \u001b[0mGridSearchCV\u001b[0m\u001b[0;34m(\u001b[0m\u001b[0mestimator\u001b[0m\u001b[0;34m=\u001b[0m\u001b[0mdt\u001b[0m\u001b[0;34m,\u001b[0m \u001b[0mparam_grid\u001b[0m\u001b[0;34m=\u001b[0m\u001b[0mparamerts\u001b[0m\u001b[0;34m,\u001b[0m \u001b[0mscoring\u001b[0m\u001b[0;34m=\u001b[0m\u001b[0;34m'roc_auc'\u001b[0m\u001b[0;34m,\u001b[0m \u001b[0mcv\u001b[0m\u001b[0;34m=\u001b[0m\u001b[0;36m5\u001b[0m\u001b[0;34m,\u001b[0m \u001b[0mn_jobs\u001b[0m\u001b[0;34m=\u001b[0m\u001b[0;34m-\u001b[0m\u001b[0;36m1\u001b[0m\u001b[0;34m,\u001b[0m \u001b[0mverbose\u001b[0m\u001b[0;34m=\u001b[0m\u001b[0;36m2\u001b[0m\u001b[0;34m)\u001b[0m\u001b[0;34m\u001b[0m\u001b[0;34m\u001b[0m\u001b[0m\n\u001b[0m\u001b[1;32m      7\u001b[0m \u001b[0mgrid_search\u001b[0m\u001b[0;34m.\u001b[0m\u001b[0mfit\u001b[0m\u001b[0;34m(\u001b[0m\u001b[0mX_train\u001b[0m\u001b[0;34m,\u001b[0m \u001b[0my_train\u001b[0m\u001b[0;34m)\u001b[0m\u001b[0;34m\u001b[0m\u001b[0;34m\u001b[0m\u001b[0m\n\u001b[1;32m      8\u001b[0m \u001b[0mgrid_search\u001b[0m\u001b[0;34m.\u001b[0m\u001b[0mbest_params_\u001b[0m\u001b[0;34m\u001b[0m\u001b[0;34m\u001b[0m\u001b[0m\n",
      "\u001b[0;31mNameError\u001b[0m: name 'paramerts' is not defined"
     ]
    }
   ],
   "source": [
    "parameters = {\n",
    "    'Decision_Tree__max_depth': [None, 3, 4, 5, 6, 7, 9, 11],\n",
    "    'Decision_Tree__criterion': ['gini', 'entropy'],\n",
    "}\n",
    "\n",
    "grid_search = GridSearchCV(estimator=dt, param_grid=paramerts, scoring='roc_auc', cv=5, n_jobs=-1, verbose=2)\n",
    "grid_search.fit(X_train, y_train)\n",
    "grid_search.best_params_"
   ]
  },
  {
   "cell_type": "code",
   "execution_count": null,
   "id": "7a1aa86d",
   "metadata": {},
   "outputs": [],
   "source": []
  },
  {
   "cell_type": "code",
   "execution_count": null,
   "id": "bbfbab89",
   "metadata": {},
   "outputs": [],
   "source": []
  }
 ],
 "metadata": {
  "kernelspec": {
   "display_name": "Python 3 (ipykernel)",
   "language": "python",
   "name": "python3"
  },
  "language_info": {
   "codemirror_mode": {
    "name": "ipython",
    "version": 3
   },
   "file_extension": ".py",
   "mimetype": "text/x-python",
   "name": "python",
   "nbconvert_exporter": "python",
   "pygments_lexer": "ipython3",
   "version": "3.9.13"
  }
 },
 "nbformat": 4,
 "nbformat_minor": 5
}
