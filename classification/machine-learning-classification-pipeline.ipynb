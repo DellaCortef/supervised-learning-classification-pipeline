{
 "cells": [
  {
   "cell_type": "code",
   "execution_count": 1,
   "id": "1f86eb0b",
   "metadata": {},
   "outputs": [
    {
     "name": "stdout",
     "output_type": "stream",
     "text": [
      "Collecting numpy\n",
      "  Using cached numpy-2.0.2-cp39-cp39-macosx_10_9_x86_64.whl (21.2 MB)\n",
      "Collecting pandas\n",
      "  Using cached pandas-2.2.3-cp39-cp39-macosx_10_9_x86_64.whl (12.6 MB)\n",
      "Collecting tzdata>=2022.7\n",
      "  Using cached tzdata-2024.2-py2.py3-none-any.whl (346 kB)\n",
      "Collecting pytz>=2020.1\n",
      "  Using cached pytz-2024.2-py2.py3-none-any.whl (508 kB)\n",
      "Collecting python-dateutil>=2.8.2\n",
      "  Using cached python_dateutil-2.9.0.post0-py2.py3-none-any.whl (229 kB)\n",
      "Collecting six>=1.5\n",
      "  Using cached six-1.17.0-py2.py3-none-any.whl (11 kB)\n",
      "Installing collected packages: pytz, tzdata, six, numpy, python-dateutil, pandas\n",
      "  Attempting uninstall: pytz\n",
      "    Found existing installation: pytz 2024.2\n",
      "    Uninstalling pytz-2024.2:\n",
      "      Successfully uninstalled pytz-2024.2\n",
      "  Attempting uninstall: tzdata\n",
      "    Found existing installation: tzdata 2024.2\n",
      "    Uninstalling tzdata-2024.2:\n",
      "      Successfully uninstalled tzdata-2024.2\n",
      "  Attempting uninstall: six\n",
      "    Found existing installation: six 1.17.0\n",
      "    Uninstalling six-1.17.0:\n",
      "      Successfully uninstalled six-1.17.0\n",
      "  Attempting uninstall: numpy\n",
      "    Found existing installation: numpy 1.21.0\n",
      "    Uninstalling numpy-1.21.0:\n",
      "      Successfully uninstalled numpy-1.21.0\n",
      "  Attempting uninstall: python-dateutil\n",
      "    Found existing installation: python-dateutil 2.9.0.post0\n",
      "    Uninstalling python-dateutil-2.9.0.post0:\n",
      "      Successfully uninstalled python-dateutil-2.9.0.post0\n",
      "  Attempting uninstall: pandas\n",
      "    Found existing installation: pandas 1.3.0\n",
      "    Uninstalling pandas-1.3.0:\n",
      "      Successfully uninstalled pandas-1.3.0\n",
      "\u001b[31mERROR: pip's dependency resolver does not currently take into account all the packages that are installed. This behaviour is the source of the following dependency conflicts.\n",
      "daal4py 2021.6.0 requires daal==2021.4.0, which is not installed.\n",
      "ydata-profiling 4.8.3 requires numpy<2,>=1.16.0, but you have numpy 2.0.2 which is incompatible.\n",
      "scprep 1.2.3 requires pandas<2.1,>=0.25, but you have pandas 2.2.3 which is incompatible.\n",
      "pdpbox 0.3.0 requires matplotlib>=3.6.2, but you have matplotlib 3.4.3 which is incompatible.\n",
      "mxnet 1.9.1 requires numpy<2.0.0,>1.16.0, but you have numpy 2.0.2 which is incompatible.\n",
      "dtreeviz 2.2.1 requires graphviz>=0.9, but you have graphviz 0.8.4 which is incompatible.\n",
      "conda-repo-cli 1.0.20 requires clyent==1.2.1, but you have clyent 1.2.2 which is incompatible.\n",
      "conda-repo-cli 1.0.20 requires nbformat==5.4.0, but you have nbformat 5.5.0 which is incompatible.\n",
      "conda-repo-cli 1.0.20 requires python-dateutil==2.8.2, but you have python-dateutil 2.9.0.post0 which is incompatible.\u001b[0m\u001b[31m\n",
      "\u001b[0mSuccessfully installed numpy-2.0.2 pandas-2.2.3 python-dateutil-2.9.0.post0 pytz-2024.2 six-1.17.0 tzdata-2024.2\n",
      "Collecting numpy==1.21\n",
      "  Using cached numpy-1.21.0-cp39-cp39-macosx_10_9_x86_64.whl (16.9 MB)\n",
      "Collecting pandas==1.3\n",
      "  Using cached pandas-1.3.0-cp39-cp39-macosx_10_9_x86_64.whl (11.6 MB)\n",
      "Requirement already satisfied: pytz>=2017.3 in /Users/dellacorte/opt/anaconda3/lib/python3.9/site-packages (from pandas==1.3) (2024.2)\n",
      "Requirement already satisfied: python-dateutil>=2.7.3 in /Users/dellacorte/opt/anaconda3/lib/python3.9/site-packages (from pandas==1.3) (2.9.0.post0)\n",
      "Requirement already satisfied: six>=1.5 in /Users/dellacorte/opt/anaconda3/lib/python3.9/site-packages (from python-dateutil>=2.7.3->pandas==1.3) (1.17.0)\n",
      "Installing collected packages: numpy, pandas\n",
      "  Attempting uninstall: numpy\n",
      "    Found existing installation: numpy 2.0.2\n",
      "    Uninstalling numpy-2.0.2:\n",
      "      Successfully uninstalled numpy-2.0.2\n",
      "  Attempting uninstall: pandas\n",
      "    Found existing installation: pandas 2.2.3\n",
      "    Uninstalling pandas-2.2.3:\n",
      "      Successfully uninstalled pandas-2.2.3\n",
      "\u001b[31mERROR: pip's dependency resolver does not currently take into account all the packages that are installed. This behaviour is the source of the following dependency conflicts.\n",
      "daal4py 2021.6.0 requires daal==2021.4.0, which is not installed.\n",
      "visions 0.7.6 requires numpy>=1.23.2, but you have numpy 1.21.0 which is incompatible.\n",
      "visions 0.7.6 requires pandas>=2.0.0, but you have pandas 1.3.0 which is incompatible.\n",
      "scipy 1.13.1 requires numpy<2.3,>=1.22.4, but you have numpy 1.21.0 which is incompatible.\n",
      "pdpbox 0.3.0 requires matplotlib>=3.6.2, but you have matplotlib 3.4.3 which is incompatible.\n",
      "pdpbox 0.3.0 requires numpy>=1.21.5, but you have numpy 1.21.0 which is incompatible.\n",
      "pdpbox 0.3.0 requires pandas>=1.4.4, but you have pandas 1.3.0 which is incompatible.\n",
      "numba 0.60.0 requires numpy<2.1,>=1.22, but you have numpy 1.21.0 which is incompatible.\n",
      "dtreeviz 2.2.1 requires graphviz>=0.9, but you have graphviz 0.8.4 which is incompatible.\n",
      "dask-expr 1.1.10 requires pandas>=2, but you have pandas 1.3.0 which is incompatible.\n",
      "cesium 0.12.3 requires numpy<3.0,>=2.0, but you have numpy 1.21.0 which is incompatible.\u001b[0m\u001b[31m\n",
      "\u001b[0mSuccessfully installed numpy-1.21.0 pandas-1.3.0\n"
     ]
    }
   ],
   "source": [
    "#!pip install scikit-learn\n",
    "!pip install --force-reinstall numpy pandas\n",
    "!pip install numpy==1.21 pandas==1.3\n",
    "#!pip install feature-engine"
   ]
  },
  {
   "cell_type": "code",
   "execution_count": 2,
   "id": "61a60a04",
   "metadata": {},
   "outputs": [
    {
     "name": "stdout",
     "output_type": "stream",
     "text": [
      "Numpy version: 1.21.0\n",
      "Pandas version: 1.3.0\n"
     ]
    }
   ],
   "source": [
    "# Verify Installed Versions\n",
    "import numpy as np\n",
    "import pandas as pd\n",
    "\n",
    "print(\"Numpy version:\", np.__version__)\n",
    "print(\"Pandas version:\", pd.__version__)"
   ]
  },
  {
   "cell_type": "code",
   "execution_count": 79,
   "id": "77380db5",
   "metadata": {},
   "outputs": [],
   "source": [
    "# importing libs\n",
    "import os\n",
    "import pandas as pd\n",
    "\n",
    "# machine learning libs\n",
    "from sklearn.metrics import accuracy_score\n",
    "from sklearn.tree import DecisionTreeClassifier\n",
    "from sklearn.linear_model import LogisticRegression\n",
    "\n",
    "# train-test-split lib\n",
    "from sklearn.model_selection import train_test_split\n",
    "\n",
    "# pipeline lib\n",
    "from sklearn.pipeline import Pipeline\n",
    "\n",
    "# feature-engine libs\n",
    "from sklearn.preprocessing import StandardScaler\n",
    "from feature_engine.encoding import OneHotEncoder\n",
    "from feature_engine.wrappers import SklearnTransformerWrapper\n",
    "\n",
    "# model lib\n",
    "import pickle\n",
    "from joblib import load\n",
    "from joblib import dump\n",
    "\n",
    "# machine learning metrics\n",
    "from sklearn.metrics import plot_roc_curve\n",
    "from sklearn.metrics import classification_report\n",
    "from sklearn.metrics import plot_confusion_matrix\n",
    "from sklearn.model_selection import cross_val_score, StratifiedKFold, cross_validate\n",
    "from sklearn.metrics import accuracy_score, balanced_accuracy_score, precision_score, recall_score, f1_score, roc_auc_score"
   ]
  },
  {
   "cell_type": "code",
   "execution_count": 4,
   "id": "28f86060",
   "metadata": {},
   "outputs": [
    {
     "name": "stdout",
     "output_type": "stream",
     "text": [
      "Current Directory: /Users/dellacorte/py-projects/data-science/supervised-learning-pipeline-reference/classification\n"
     ]
    }
   ],
   "source": [
    "# Get the current working directory\n",
    "current_directory = os.getcwd()\n",
    "print(\"Current Directory:\", current_directory)"
   ]
  },
  {
   "cell_type": "code",
   "execution_count": 6,
   "id": "421d0916",
   "metadata": {},
   "outputs": [
    {
     "data": {
      "text/html": [
       "<div>\n",
       "<style scoped>\n",
       "    .dataframe tbody tr th:only-of-type {\n",
       "        vertical-align: middle;\n",
       "    }\n",
       "\n",
       "    .dataframe tbody tr th {\n",
       "        vertical-align: top;\n",
       "    }\n",
       "\n",
       "    .dataframe thead th {\n",
       "        text-align: right;\n",
       "    }\n",
       "</style>\n",
       "<table border=\"1\" class=\"dataframe\">\n",
       "  <thead>\n",
       "    <tr style=\"text-align: right;\">\n",
       "      <th></th>\n",
       "      <th>data_ref_safra</th>\n",
       "      <th>seller_id</th>\n",
       "      <th>uf</th>\n",
       "      <th>tot_orders_12m</th>\n",
       "      <th>tot_items_12m</th>\n",
       "      <th>tot_items_dist_12m</th>\n",
       "      <th>receita_12m</th>\n",
       "      <th>recencia</th>\n",
       "      <th>nao_revendeu_next_6m</th>\n",
       "    </tr>\n",
       "  </thead>\n",
       "  <tbody>\n",
       "    <tr>\n",
       "      <th>0</th>\n",
       "      <td>2018-01-01</td>\n",
       "      <td>0015a82c2db000af6aaaf3ae2ecb0532</td>\n",
       "      <td>SP</td>\n",
       "      <td>3</td>\n",
       "      <td>3</td>\n",
       "      <td>1</td>\n",
       "      <td>2685.00</td>\n",
       "      <td>74</td>\n",
       "      <td>1</td>\n",
       "    </tr>\n",
       "    <tr>\n",
       "      <th>1</th>\n",
       "      <td>2018-01-01</td>\n",
       "      <td>001cca7ae9ae17fb1caed9dfb1094831</td>\n",
       "      <td>ES</td>\n",
       "      <td>171</td>\n",
       "      <td>207</td>\n",
       "      <td>9</td>\n",
       "      <td>21275.23</td>\n",
       "      <td>2</td>\n",
       "      <td>0</td>\n",
       "    </tr>\n",
       "    <tr>\n",
       "      <th>2</th>\n",
       "      <td>2018-01-01</td>\n",
       "      <td>002100f778ceb8431b7a1020ff7ab48f</td>\n",
       "      <td>SP</td>\n",
       "      <td>38</td>\n",
       "      <td>42</td>\n",
       "      <td>15</td>\n",
       "      <td>781.80</td>\n",
       "      <td>2</td>\n",
       "      <td>0</td>\n",
       "    </tr>\n",
       "    <tr>\n",
       "      <th>3</th>\n",
       "      <td>2018-01-01</td>\n",
       "      <td>003554e2dce176b5555353e4f3555ac8</td>\n",
       "      <td>GO</td>\n",
       "      <td>1</td>\n",
       "      <td>1</td>\n",
       "      <td>1</td>\n",
       "      <td>120.00</td>\n",
       "      <td>16</td>\n",
       "      <td>1</td>\n",
       "    </tr>\n",
       "    <tr>\n",
       "      <th>4</th>\n",
       "      <td>2018-01-01</td>\n",
       "      <td>004c9cd9d87a3c30c522c48c4fc07416</td>\n",
       "      <td>SP</td>\n",
       "      <td>130</td>\n",
       "      <td>141</td>\n",
       "      <td>75</td>\n",
       "      <td>16228.88</td>\n",
       "      <td>8</td>\n",
       "      <td>0</td>\n",
       "    </tr>\n",
       "  </tbody>\n",
       "</table>\n",
       "</div>"
      ],
      "text/plain": [
       "  data_ref_safra                         seller_id  uf  tot_orders_12m  \\\n",
       "0     2018-01-01  0015a82c2db000af6aaaf3ae2ecb0532  SP               3   \n",
       "1     2018-01-01  001cca7ae9ae17fb1caed9dfb1094831  ES             171   \n",
       "2     2018-01-01  002100f778ceb8431b7a1020ff7ab48f  SP              38   \n",
       "3     2018-01-01  003554e2dce176b5555353e4f3555ac8  GO               1   \n",
       "4     2018-01-01  004c9cd9d87a3c30c522c48c4fc07416  SP             130   \n",
       "\n",
       "   tot_items_12m  tot_items_dist_12m  receita_12m  recencia  \\\n",
       "0              3                   1      2685.00        74   \n",
       "1            207                   9     21275.23         2   \n",
       "2             42                  15       781.80         2   \n",
       "3              1                   1       120.00        16   \n",
       "4            141                  75     16228.88         8   \n",
       "\n",
       "   nao_revendeu_next_6m  \n",
       "0                     1  \n",
       "1                     0  \n",
       "2                     0  \n",
       "3                     1  \n",
       "4                     0  "
      ]
     },
     "execution_count": 6,
     "metadata": {},
     "output_type": "execute_result"
    }
   ],
   "source": [
    "# Read the dataset\n",
    "df_abt = pd.read_csv('/Users/dellacorte/py-projects/data-science/supervised-learning-pipeline-reference/databases/propensao_revenda_abt.csv')\n",
    "df_abt.head() "
   ]
  },
  {
   "cell_type": "code",
   "execution_count": 7,
   "id": "8788e816",
   "metadata": {},
   "outputs": [
    {
     "data": {
      "text/html": [
       "<div>\n",
       "<style scoped>\n",
       "    .dataframe tbody tr th:only-of-type {\n",
       "        vertical-align: middle;\n",
       "    }\n",
       "\n",
       "    .dataframe tbody tr th {\n",
       "        vertical-align: top;\n",
       "    }\n",
       "\n",
       "    .dataframe thead th {\n",
       "        text-align: right;\n",
       "    }\n",
       "</style>\n",
       "<table border=\"1\" class=\"dataframe\">\n",
       "  <thead>\n",
       "    <tr style=\"text-align: right;\">\n",
       "      <th></th>\n",
       "      <th>uf</th>\n",
       "      <th>tot_orders_12m</th>\n",
       "      <th>tot_items_12m</th>\n",
       "      <th>tot_items_dist_12m</th>\n",
       "      <th>receita_12m</th>\n",
       "      <th>recencia</th>\n",
       "    </tr>\n",
       "  </thead>\n",
       "  <tbody>\n",
       "    <tr>\n",
       "      <th>0</th>\n",
       "      <td>SP</td>\n",
       "      <td>3</td>\n",
       "      <td>3</td>\n",
       "      <td>1</td>\n",
       "      <td>2685.00</td>\n",
       "      <td>74</td>\n",
       "    </tr>\n",
       "    <tr>\n",
       "      <th>1</th>\n",
       "      <td>ES</td>\n",
       "      <td>171</td>\n",
       "      <td>207</td>\n",
       "      <td>9</td>\n",
       "      <td>21275.23</td>\n",
       "      <td>2</td>\n",
       "    </tr>\n",
       "    <tr>\n",
       "      <th>2</th>\n",
       "      <td>SP</td>\n",
       "      <td>38</td>\n",
       "      <td>42</td>\n",
       "      <td>15</td>\n",
       "      <td>781.80</td>\n",
       "      <td>2</td>\n",
       "    </tr>\n",
       "    <tr>\n",
       "      <th>3</th>\n",
       "      <td>GO</td>\n",
       "      <td>1</td>\n",
       "      <td>1</td>\n",
       "      <td>1</td>\n",
       "      <td>120.00</td>\n",
       "      <td>16</td>\n",
       "    </tr>\n",
       "    <tr>\n",
       "      <th>4</th>\n",
       "      <td>SP</td>\n",
       "      <td>130</td>\n",
       "      <td>141</td>\n",
       "      <td>75</td>\n",
       "      <td>16228.88</td>\n",
       "      <td>8</td>\n",
       "    </tr>\n",
       "  </tbody>\n",
       "</table>\n",
       "</div>"
      ],
      "text/plain": [
       "   uf  tot_orders_12m  tot_items_12m  tot_items_dist_12m  receita_12m  \\\n",
       "0  SP               3              3                   1      2685.00   \n",
       "1  ES             171            207                   9     21275.23   \n",
       "2  SP              38             42                  15       781.80   \n",
       "3  GO               1              1                   1       120.00   \n",
       "4  SP             130            141                  75     16228.88   \n",
       "\n",
       "   recencia  \n",
       "0        74  \n",
       "1         2  \n",
       "2         2  \n",
       "3        16  \n",
       "4         8  "
      ]
     },
     "execution_count": 7,
     "metadata": {},
     "output_type": "execute_result"
    }
   ],
   "source": [
    "# key variables\n",
    "key_vars = ['data_ref_safra', 'seller_id']\n",
    "\n",
    "# numeric variables\n",
    "num_vars = ['tot_orders_12m', 'tot_items_12m', 'tot_items_dist_12m', 'receita_12m', 'recencia']\n",
    "\n",
    "# categorical variables\n",
    "cat_vars = ['uf']\n",
    "\n",
    "# target\n",
    "target = 'nao_revendeu_next_6m'\n",
    "\n",
    "# creating our dataframe with the variables listed\n",
    "# excluding key variables, as they are not important\n",
    "features = cat_vars + num_vars\n",
    "\n",
    "# creating a dataframe with variables\n",
    "X = df_abt[features]\n",
    "X.head()"
   ]
  },
  {
   "cell_type": "code",
   "execution_count": 8,
   "id": "af604e76",
   "metadata": {},
   "outputs": [
    {
     "data": {
      "text/plain": [
       "0    1\n",
       "1    0\n",
       "2    0\n",
       "3    1\n",
       "4    0\n",
       "Name: nao_revendeu_next_6m, dtype: int64"
      ]
     },
     "execution_count": 8,
     "metadata": {},
     "output_type": "execute_result"
    }
   ],
   "source": [
    "# creating a dataframe with target variable\n",
    "y = df_abt[target]\n",
    "y.head()"
   ]
  },
  {
   "cell_type": "code",
   "execution_count": 9,
   "id": "018cae77",
   "metadata": {},
   "outputs": [
    {
     "name": "stderr",
     "output_type": "stream",
     "text": [
      "/Users/dellacorte/opt/anaconda3/lib/python3.9/site-packages/sklearn/linear_model/_logistic.py:814: ConvergenceWarning: lbfgs failed to converge (status=1):\n",
      "STOP: TOTAL NO. of ITERATIONS REACHED LIMIT.\n",
      "\n",
      "Increase the number of iterations (max_iter) or scale the data as shown in:\n",
      "    https://scikit-learn.org/stable/modules/preprocessing.html\n",
      "Please also refer to the documentation for alternative solver options:\n",
      "    https://scikit-learn.org/stable/modules/linear_model.html#logistic-regression\n",
      "  n_iter_i = _check_optimize_result(\n"
     ]
    },
    {
     "data": {
      "text/plain": [
       "LogisticRegression(random_state=42)"
      ]
     },
     "execution_count": 9,
     "metadata": {},
     "output_type": "execute_result"
    }
   ],
   "source": [
    "# creating a variable with the logistic regression model\n",
    "lr_model = LogisticRegression(random_state=42)\n",
    "\n",
    "# making the model parameters (X, y) available\n",
    "lr_model.fit(X=X[num_vars], y=y)"
   ]
  },
  {
   "cell_type": "code",
   "execution_count": 10,
   "id": "ac8b7106",
   "metadata": {},
   "outputs": [
    {
     "data": {
      "text/plain": [
       "array([-1.48739767])"
      ]
     },
     "execution_count": 10,
     "metadata": {},
     "output_type": "execute_result"
    }
   ],
   "source": [
    "# interceptor\n",
    "lr_model.intercept_"
   ]
  },
  {
   "cell_type": "code",
   "execution_count": 11,
   "id": "9f1fdb96",
   "metadata": {},
   "outputs": [
    {
     "data": {
      "text/plain": [
       "array([[-1.05500593e-02,  6.67061909e-03, -4.34068580e-02,\n",
       "        -4.50547976e-05,  2.20512256e-02]])"
      ]
     },
     "execution_count": 11,
     "metadata": {},
     "output_type": "execute_result"
    }
   ],
   "source": [
    "# coefficient\n",
    "lr_model.coef_"
   ]
  },
  {
   "cell_type": "code",
   "execution_count": 12,
   "id": "5467436f",
   "metadata": {},
   "outputs": [
    {
     "data": {
      "text/plain": [
       "array([0, 0, 0, ..., 0, 0, 0])"
      ]
     },
     "execution_count": 12,
     "metadata": {},
     "output_type": "execute_result"
    }
   ],
   "source": [
    "# model prediction\n",
    "y_pred = lr_model.predict(X[num_vars])\n",
    "y_pred"
   ]
  },
  {
   "cell_type": "code",
   "execution_count": 13,
   "id": "e9766f41",
   "metadata": {},
   "outputs": [
    {
     "name": "stderr",
     "output_type": "stream",
     "text": [
      "/Users/dellacorte/opt/anaconda3/lib/python3.9/site-packages/sklearn/base.py:450: UserWarning: X does not have valid feature names, but LogisticRegression was fitted with feature names\n",
      "  warnings.warn(\n"
     ]
    },
    {
     "data": {
      "text/plain": [
       "array([0])"
      ]
     },
     "execution_count": 13,
     "metadata": {},
     "output_type": "execute_result"
    }
   ],
   "source": [
    "# passing the features manually into the model\n",
    "lr_model.predict([[3, 3, 1, 2685.0, 74]])"
   ]
  },
  {
   "cell_type": "code",
   "execution_count": 14,
   "id": "362731e3",
   "metadata": {},
   "outputs": [
    {
     "data": {
      "text/html": [
       "<div>\n",
       "<style scoped>\n",
       "    .dataframe tbody tr th:only-of-type {\n",
       "        vertical-align: middle;\n",
       "    }\n",
       "\n",
       "    .dataframe tbody tr th {\n",
       "        vertical-align: top;\n",
       "    }\n",
       "\n",
       "    .dataframe thead th {\n",
       "        text-align: right;\n",
       "    }\n",
       "</style>\n",
       "<table border=\"1\" class=\"dataframe\">\n",
       "  <thead>\n",
       "    <tr style=\"text-align: right;\">\n",
       "      <th></th>\n",
       "      <th>y_expected</th>\n",
       "      <th>y_predicted</th>\n",
       "    </tr>\n",
       "  </thead>\n",
       "  <tbody>\n",
       "    <tr>\n",
       "      <th>0</th>\n",
       "      <td>1</td>\n",
       "      <td>0</td>\n",
       "    </tr>\n",
       "    <tr>\n",
       "      <th>1</th>\n",
       "      <td>0</td>\n",
       "      <td>0</td>\n",
       "    </tr>\n",
       "    <tr>\n",
       "      <th>2</th>\n",
       "      <td>0</td>\n",
       "      <td>0</td>\n",
       "    </tr>\n",
       "    <tr>\n",
       "      <th>3</th>\n",
       "      <td>1</td>\n",
       "      <td>0</td>\n",
       "    </tr>\n",
       "    <tr>\n",
       "      <th>4</th>\n",
       "      <td>0</td>\n",
       "      <td>0</td>\n",
       "    </tr>\n",
       "    <tr>\n",
       "      <th>...</th>\n",
       "      <td>...</td>\n",
       "      <td>...</td>\n",
       "    </tr>\n",
       "    <tr>\n",
       "      <th>5364</th>\n",
       "      <td>1</td>\n",
       "      <td>0</td>\n",
       "    </tr>\n",
       "    <tr>\n",
       "      <th>5365</th>\n",
       "      <td>0</td>\n",
       "      <td>0</td>\n",
       "    </tr>\n",
       "    <tr>\n",
       "      <th>5366</th>\n",
       "      <td>0</td>\n",
       "      <td>0</td>\n",
       "    </tr>\n",
       "    <tr>\n",
       "      <th>5367</th>\n",
       "      <td>0</td>\n",
       "      <td>0</td>\n",
       "    </tr>\n",
       "    <tr>\n",
       "      <th>5368</th>\n",
       "      <td>0</td>\n",
       "      <td>0</td>\n",
       "    </tr>\n",
       "  </tbody>\n",
       "</table>\n",
       "<p>5369 rows × 2 columns</p>\n",
       "</div>"
      ],
      "text/plain": [
       "      y_expected  y_predicted\n",
       "0              1            0\n",
       "1              0            0\n",
       "2              0            0\n",
       "3              1            0\n",
       "4              0            0\n",
       "...          ...          ...\n",
       "5364           1            0\n",
       "5365           0            0\n",
       "5366           0            0\n",
       "5367           0            0\n",
       "5368           0            0\n",
       "\n",
       "[5369 rows x 2 columns]"
      ]
     },
     "execution_count": 14,
     "metadata": {},
     "output_type": "execute_result"
    }
   ],
   "source": [
    "# dataframe with expected target and predicted target\n",
    "df_res = pd.DataFrame()\n",
    "\n",
    "df_res['y_expected'] = y.copy()\n",
    "df_res['y_predicted'] = y_pred.copy()\n",
    "\n",
    "df_res"
   ]
  },
  {
   "cell_type": "code",
   "execution_count": 15,
   "id": "754aa662",
   "metadata": {},
   "outputs": [
    {
     "data": {
      "text/html": [
       "<div>\n",
       "<style scoped>\n",
       "    .dataframe tbody tr th:only-of-type {\n",
       "        vertical-align: middle;\n",
       "    }\n",
       "\n",
       "    .dataframe tbody tr th {\n",
       "        vertical-align: top;\n",
       "    }\n",
       "\n",
       "    .dataframe thead th {\n",
       "        text-align: right;\n",
       "    }\n",
       "</style>\n",
       "<table border=\"1\" class=\"dataframe\">\n",
       "  <thead>\n",
       "    <tr style=\"text-align: right;\">\n",
       "      <th></th>\n",
       "      <th>data_ref_safra</th>\n",
       "      <th>seller_id</th>\n",
       "      <th>uf</th>\n",
       "      <th>tot_orders_12m</th>\n",
       "      <th>tot_items_12m</th>\n",
       "      <th>tot_items_dist_12m</th>\n",
       "      <th>receita_12m</th>\n",
       "      <th>recencia</th>\n",
       "      <th>nao_revendeu_next_6m</th>\n",
       "      <th>y_expected</th>\n",
       "      <th>y_predicted</th>\n",
       "    </tr>\n",
       "  </thead>\n",
       "  <tbody>\n",
       "    <tr>\n",
       "      <th>0</th>\n",
       "      <td>2018-01-01</td>\n",
       "      <td>0015a82c2db000af6aaaf3ae2ecb0532</td>\n",
       "      <td>SP</td>\n",
       "      <td>3</td>\n",
       "      <td>3</td>\n",
       "      <td>1</td>\n",
       "      <td>2685.00</td>\n",
       "      <td>74</td>\n",
       "      <td>1</td>\n",
       "      <td>1</td>\n",
       "      <td>0</td>\n",
       "    </tr>\n",
       "    <tr>\n",
       "      <th>1</th>\n",
       "      <td>2018-01-01</td>\n",
       "      <td>001cca7ae9ae17fb1caed9dfb1094831</td>\n",
       "      <td>ES</td>\n",
       "      <td>171</td>\n",
       "      <td>207</td>\n",
       "      <td>9</td>\n",
       "      <td>21275.23</td>\n",
       "      <td>2</td>\n",
       "      <td>0</td>\n",
       "      <td>0</td>\n",
       "      <td>0</td>\n",
       "    </tr>\n",
       "    <tr>\n",
       "      <th>2</th>\n",
       "      <td>2018-01-01</td>\n",
       "      <td>002100f778ceb8431b7a1020ff7ab48f</td>\n",
       "      <td>SP</td>\n",
       "      <td>38</td>\n",
       "      <td>42</td>\n",
       "      <td>15</td>\n",
       "      <td>781.80</td>\n",
       "      <td>2</td>\n",
       "      <td>0</td>\n",
       "      <td>0</td>\n",
       "      <td>0</td>\n",
       "    </tr>\n",
       "    <tr>\n",
       "      <th>3</th>\n",
       "      <td>2018-01-01</td>\n",
       "      <td>003554e2dce176b5555353e4f3555ac8</td>\n",
       "      <td>GO</td>\n",
       "      <td>1</td>\n",
       "      <td>1</td>\n",
       "      <td>1</td>\n",
       "      <td>120.00</td>\n",
       "      <td>16</td>\n",
       "      <td>1</td>\n",
       "      <td>1</td>\n",
       "      <td>0</td>\n",
       "    </tr>\n",
       "    <tr>\n",
       "      <th>4</th>\n",
       "      <td>2018-01-01</td>\n",
       "      <td>004c9cd9d87a3c30c522c48c4fc07416</td>\n",
       "      <td>SP</td>\n",
       "      <td>130</td>\n",
       "      <td>141</td>\n",
       "      <td>75</td>\n",
       "      <td>16228.88</td>\n",
       "      <td>8</td>\n",
       "      <td>0</td>\n",
       "      <td>0</td>\n",
       "      <td>0</td>\n",
       "    </tr>\n",
       "    <tr>\n",
       "      <th>...</th>\n",
       "      <td>...</td>\n",
       "      <td>...</td>\n",
       "      <td>...</td>\n",
       "      <td>...</td>\n",
       "      <td>...</td>\n",
       "      <td>...</td>\n",
       "      <td>...</td>\n",
       "      <td>...</td>\n",
       "      <td>...</td>\n",
       "      <td>...</td>\n",
       "      <td>...</td>\n",
       "    </tr>\n",
       "    <tr>\n",
       "      <th>5364</th>\n",
       "      <td>2018-03-01</td>\n",
       "      <td>ff82e8873fba613f2261a9acc896fd84</td>\n",
       "      <td>MG</td>\n",
       "      <td>4</td>\n",
       "      <td>4</td>\n",
       "      <td>3</td>\n",
       "      <td>124.60</td>\n",
       "      <td>12</td>\n",
       "      <td>1</td>\n",
       "      <td>1</td>\n",
       "      <td>0</td>\n",
       "    </tr>\n",
       "    <tr>\n",
       "      <th>5365</th>\n",
       "      <td>2018-03-01</td>\n",
       "      <td>ffc470761de7d0232558ba5e786e57b7</td>\n",
       "      <td>SP</td>\n",
       "      <td>5</td>\n",
       "      <td>5</td>\n",
       "      <td>5</td>\n",
       "      <td>385.59</td>\n",
       "      <td>0</td>\n",
       "      <td>0</td>\n",
       "      <td>0</td>\n",
       "      <td>0</td>\n",
       "    </tr>\n",
       "    <tr>\n",
       "      <th>5366</th>\n",
       "      <td>2018-03-01</td>\n",
       "      <td>ffdd9f82b9a447f6f8d4b91554cc7dd3</td>\n",
       "      <td>PR</td>\n",
       "      <td>11</td>\n",
       "      <td>12</td>\n",
       "      <td>8</td>\n",
       "      <td>1450.20</td>\n",
       "      <td>7</td>\n",
       "      <td>0</td>\n",
       "      <td>0</td>\n",
       "      <td>0</td>\n",
       "    </tr>\n",
       "    <tr>\n",
       "      <th>5367</th>\n",
       "      <td>2018-03-01</td>\n",
       "      <td>ffeee66ac5d5a62fe688b9d26f83f534</td>\n",
       "      <td>SP</td>\n",
       "      <td>13</td>\n",
       "      <td>13</td>\n",
       "      <td>3</td>\n",
       "      <td>1709.87</td>\n",
       "      <td>0</td>\n",
       "      <td>0</td>\n",
       "      <td>0</td>\n",
       "      <td>0</td>\n",
       "    </tr>\n",
       "    <tr>\n",
       "      <th>5368</th>\n",
       "      <td>2018-03-01</td>\n",
       "      <td>fffd5413c0700ac820c7069d66d98c89</td>\n",
       "      <td>SP</td>\n",
       "      <td>33</td>\n",
       "      <td>34</td>\n",
       "      <td>22</td>\n",
       "      <td>5488.60</td>\n",
       "      <td>14</td>\n",
       "      <td>0</td>\n",
       "      <td>0</td>\n",
       "      <td>0</td>\n",
       "    </tr>\n",
       "  </tbody>\n",
       "</table>\n",
       "<p>5369 rows × 11 columns</p>\n",
       "</div>"
      ],
      "text/plain": [
       "     data_ref_safra                         seller_id  uf  tot_orders_12m  \\\n",
       "0        2018-01-01  0015a82c2db000af6aaaf3ae2ecb0532  SP               3   \n",
       "1        2018-01-01  001cca7ae9ae17fb1caed9dfb1094831  ES             171   \n",
       "2        2018-01-01  002100f778ceb8431b7a1020ff7ab48f  SP              38   \n",
       "3        2018-01-01  003554e2dce176b5555353e4f3555ac8  GO               1   \n",
       "4        2018-01-01  004c9cd9d87a3c30c522c48c4fc07416  SP             130   \n",
       "...             ...                               ...  ..             ...   \n",
       "5364     2018-03-01  ff82e8873fba613f2261a9acc896fd84  MG               4   \n",
       "5365     2018-03-01  ffc470761de7d0232558ba5e786e57b7  SP               5   \n",
       "5366     2018-03-01  ffdd9f82b9a447f6f8d4b91554cc7dd3  PR              11   \n",
       "5367     2018-03-01  ffeee66ac5d5a62fe688b9d26f83f534  SP              13   \n",
       "5368     2018-03-01  fffd5413c0700ac820c7069d66d98c89  SP              33   \n",
       "\n",
       "      tot_items_12m  tot_items_dist_12m  receita_12m  recencia  \\\n",
       "0                 3                   1      2685.00        74   \n",
       "1               207                   9     21275.23         2   \n",
       "2                42                  15       781.80         2   \n",
       "3                 1                   1       120.00        16   \n",
       "4               141                  75     16228.88         8   \n",
       "...             ...                 ...          ...       ...   \n",
       "5364              4                   3       124.60        12   \n",
       "5365              5                   5       385.59         0   \n",
       "5366             12                   8      1450.20         7   \n",
       "5367             13                   3      1709.87         0   \n",
       "5368             34                  22      5488.60        14   \n",
       "\n",
       "      nao_revendeu_next_6m  y_expected  y_predicted  \n",
       "0                        1           1            0  \n",
       "1                        0           0            0  \n",
       "2                        0           0            0  \n",
       "3                        1           1            0  \n",
       "4                        0           0            0  \n",
       "...                    ...         ...          ...  \n",
       "5364                     1           1            0  \n",
       "5365                     0           0            0  \n",
       "5366                     0           0            0  \n",
       "5367                     0           0            0  \n",
       "5368                     0           0            0  \n",
       "\n",
       "[5369 rows x 11 columns]"
      ]
     },
     "execution_count": 15,
     "metadata": {},
     "output_type": "execute_result"
    }
   ],
   "source": [
    "# concatenating my expected/predicted dataframe with my features\n",
    "df_res = pd.concat([df_abt, df_res], axis=1)\n",
    "\n",
    "df_res"
   ]
  },
  {
   "cell_type": "markdown",
   "id": "a7ab60a7",
   "metadata": {},
   "source": [
    "## Step by step on how to run a classification model in Python.\n",
    "\n",
    "In the following example, we use Logistic Regression"
   ]
  },
  {
   "cell_type": "code",
   "execution_count": 16,
   "id": "6f819bbe",
   "metadata": {},
   "outputs": [
    {
     "name": "stderr",
     "output_type": "stream",
     "text": [
      "/Users/dellacorte/opt/anaconda3/lib/python3.9/site-packages/sklearn/linear_model/_logistic.py:814: ConvergenceWarning: lbfgs failed to converge (status=1):\n",
      "STOP: TOTAL NO. of ITERATIONS REACHED LIMIT.\n",
      "\n",
      "Increase the number of iterations (max_iter) or scale the data as shown in:\n",
      "    https://scikit-learn.org/stable/modules/preprocessing.html\n",
      "Please also refer to the documentation for alternative solver options:\n",
      "    https://scikit-learn.org/stable/modules/linear_model.html#logistic-regression\n",
      "  n_iter_i = _check_optimize_result(\n"
     ]
    },
    {
     "data": {
      "text/plain": [
       "0.8252933507170795"
      ]
     },
     "execution_count": 16,
     "metadata": {},
     "output_type": "execute_result"
    }
   ],
   "source": [
    "# creating logistic regression model\n",
    "lr_model = LogisticRegression(random_state=42)\n",
    "\n",
    "# making the model parameters (X, y) available\n",
    "lr_model.fit(X=X[num_vars], y=y)\n",
    "\n",
    "# model prediction\n",
    "y_pred = lr_model.predict(X[num_vars])\n",
    "y_pred\n",
    "\n",
    "# computing accuracy: how much the predicted accuracy is as expected\n",
    "acc = accuracy_score(y_true=y, y_pred=y_pred)\n",
    "acc"
   ]
  },
  {
   "cell_type": "markdown",
   "id": "6a746f7c",
   "metadata": {},
   "source": [
    "### Train-Test split\n",
    "\n",
    "We will learn how to split the dataset into training and testing to balance the Bias-Variance tradeoff."
   ]
  },
  {
   "cell_type": "code",
   "execution_count": 17,
   "id": "7a6f9cc7",
   "metadata": {},
   "outputs": [
    {
     "data": {
      "text/plain": [
       "0    0.61762\n",
       "1    0.38238\n",
       "Name: nao_revendeu_next_6m, dtype: float64"
      ]
     },
     "execution_count": 17,
     "metadata": {},
     "output_type": "execute_result"
    }
   ],
   "source": [
    "# computing proportion of target variable\n",
    "y.value_counts(1)"
   ]
  },
  {
   "cell_type": "code",
   "execution_count": 18,
   "id": "c4933ae3",
   "metadata": {},
   "outputs": [
    {
     "data": {
      "text/plain": [
       "[      uf  tot_orders_12m  tot_items_12m  tot_items_dist_12m  receita_12m  \\\n",
       " 4776  SP               5              6                   5       309.90   \n",
       " 4578  SC               5              5                   1       995.00   \n",
       " 2948  SP              14             14                   2     21519.50   \n",
       " 4416  SP              17             17                   8      8563.93   \n",
       " 2459  PR               4              4                   3       299.69   \n",
       " ...   ..             ...            ...                 ...          ...   \n",
       " 3092  SE               3              3                   2       329.70   \n",
       " 3772  SP              94             98                  61     23162.00   \n",
       " 5191  SP              11             11                   6      4299.19   \n",
       " 5226  SP               1              1                   1        10.90   \n",
       " 860   SP              13             13                   2      2127.80   \n",
       " \n",
       "       recencia  \n",
       " 4776       246  \n",
       " 4578         4  \n",
       " 2948       174  \n",
       " 4416        10  \n",
       " 2459       214  \n",
       " ...        ...  \n",
       " 3092        87  \n",
       " 3772         1  \n",
       " 5191         1  \n",
       " 5226       337  \n",
       " 860         30  \n",
       " \n",
       " [4295 rows x 6 columns],\n",
       "       uf  tot_orders_12m  tot_items_12m  tot_items_dist_12m  receita_12m  \\\n",
       " 410   PR              11             11                   6      1329.08   \n",
       " 3625  MG              21             23                  14      4799.14   \n",
       " 838   SP               3              3                   3      1272.97   \n",
       " 4080  SP               1              2                   1        98.00   \n",
       " 4572  SC               4              6                   6       834.00   \n",
       " ...   ..             ...            ...                 ...          ...   \n",
       " 4275  SP              30             30                   5      3376.50   \n",
       " 3074  SP              15             15                   3      1969.85   \n",
       " 802   PR              27             27                  12      7410.90   \n",
       " 3467  MG             112            117                  17      4417.90   \n",
       " 2318  SP               1              1                   1       165.90   \n",
       " \n",
       "       recencia  \n",
       " 410         17  \n",
       " 3625         4  \n",
       " 838         26  \n",
       " 4080        92  \n",
       " 4572         6  \n",
       " ...        ...  \n",
       " 4275         1  \n",
       " 3074         5  \n",
       " 802          3  \n",
       " 3467        39  \n",
       " 2318         5  \n",
       " \n",
       " [1074 rows x 6 columns],\n",
       " 4776    1\n",
       " 4578    0\n",
       " 2948    1\n",
       " 4416    0\n",
       " 2459    1\n",
       "        ..\n",
       " 3092    0\n",
       " 3772    0\n",
       " 5191    0\n",
       " 5226    0\n",
       " 860     0\n",
       " Name: nao_revendeu_next_6m, Length: 4295, dtype: int64,\n",
       " 410     0\n",
       " 3625    0\n",
       " 838     0\n",
       " 4080    1\n",
       " 4572    1\n",
       "        ..\n",
       " 4275    0\n",
       " 3074    0\n",
       " 802     0\n",
       " 3467    1\n",
       " 2318    0\n",
       " Name: nao_revendeu_next_6m, Length: 1074, dtype: int64]"
      ]
     },
     "execution_count": 18,
     "metadata": {},
     "output_type": "execute_result"
    }
   ],
   "source": [
    "# splitting the dataset\n",
    "# train_size parameter = amount of data in the training set (0 - 1)\n",
    "# test_size parameter = amount of data in the test set (0 - 1)\n",
    "train_test_split(X, y, test_size=0.2, random_state=42)\n",
    "\n",
    "## the set is available in 4 values"
   ]
  },
  {
   "cell_type": "code",
   "execution_count": 19,
   "id": "702f4ae6",
   "metadata": {},
   "outputs": [],
   "source": [
    "X_train, X_test, y_train, y_test = train_test_split(X, y, test_size=0.2, random_state=42, stratify=y)"
   ]
  },
  {
   "cell_type": "code",
   "execution_count": 20,
   "id": "371b00a3",
   "metadata": {},
   "outputs": [
    {
     "data": {
      "text/plain": [
       "((4295, 6), (1074, 6))"
      ]
     },
     "execution_count": 20,
     "metadata": {},
     "output_type": "execute_result"
    }
   ],
   "source": [
    "# checking the proportions of the division\n",
    "X_train.shape, X_test.shape"
   ]
  },
  {
   "cell_type": "code",
   "execution_count": 21,
   "id": "8dd74a8a",
   "metadata": {},
   "outputs": [
    {
     "data": {
      "text/plain": [
       "((4295,), (1074,))"
      ]
     },
     "execution_count": 21,
     "metadata": {},
     "output_type": "execute_result"
    }
   ],
   "source": [
    "# checking the proportions of the division\n",
    "y_train.shape, y_test.shape"
   ]
  },
  {
   "cell_type": "code",
   "execution_count": 22,
   "id": "6e71a38d",
   "metadata": {},
   "outputs": [
    {
     "data": {
      "text/plain": [
       "0    0.617695\n",
       "1    0.382305\n",
       "Name: nao_revendeu_next_6m, dtype: float64"
      ]
     },
     "execution_count": 22,
     "metadata": {},
     "output_type": "execute_result"
    }
   ],
   "source": [
    "# checking the proportions of the division\n",
    "y_train.value_counts(1)"
   ]
  },
  {
   "cell_type": "code",
   "execution_count": 23,
   "id": "d2ad815a",
   "metadata": {},
   "outputs": [
    {
     "data": {
      "text/plain": [
       "0    0.617318\n",
       "1    0.382682\n",
       "Name: nao_revendeu_next_6m, dtype: float64"
      ]
     },
     "execution_count": 23,
     "metadata": {},
     "output_type": "execute_result"
    }
   ],
   "source": [
    "# checking the proportions of the division\n",
    "y_test.value_counts(1)"
   ]
  },
  {
   "cell_type": "code",
   "execution_count": 24,
   "id": "80471788",
   "metadata": {},
   "outputs": [
    {
     "data": {
      "text/plain": [
       "0.8279394644935972"
      ]
     },
     "execution_count": 24,
     "metadata": {},
     "output_type": "execute_result"
    }
   ],
   "source": [
    "# creating logistic regression model\n",
    "lr_model = LogisticRegression(random_state=42)\n",
    "\n",
    "# making the model parameters (X, y) available\n",
    "lr_model.fit(X=X_train[num_vars], y=y_train)\n",
    "\n",
    "# model prediction on the train set\n",
    "y_pred_train = lr_model.predict(X_train[num_vars])\n",
    "y_pred\n",
    "\n",
    "# computing accuracy: how much the predicted hit is expected in the train set\n",
    "acc_train = accuracy_score(y_true=y_train, y_pred=y_pred_train)\n",
    "acc_train"
   ]
  },
  {
   "cell_type": "code",
   "execution_count": 25,
   "id": "ff127bc2",
   "metadata": {},
   "outputs": [
    {
     "data": {
      "text/plain": [
       "0.8081936685288641"
      ]
     },
     "execution_count": 25,
     "metadata": {},
     "output_type": "execute_result"
    }
   ],
   "source": [
    "# model prediction in the test set\n",
    "y_pred_test = lr_model.predict(X_test[num_vars])\n",
    "y_pred\n",
    "\n",
    "# computing accuracy: how much the predicted hit is expected in the test set\n",
    "acc_test = accuracy_score(y_true=y_test, y_pred=y_pred_test)\n",
    "acc_test"
   ]
  },
  {
   "cell_type": "markdown",
   "id": "94d340b0",
   "metadata": {},
   "source": [
    "Comparing the models in the 2 data sets (train and test), a slight reduction in our metric is observed. This comparison is used to balance the tradeoff between Bias-Variance."
   ]
  },
  {
   "cell_type": "code",
   "execution_count": 26,
   "id": "92c87baf",
   "metadata": {},
   "outputs": [
    {
     "name": "stdout",
     "output_type": "stream",
     "text": [
      "Accuracy for Training 82.79%\n",
      "Accuracy for Test 80.82%\n"
     ]
    }
   ],
   "source": [
    "# splitting the dataset\n",
    "# train_size parameter = amount of data in the training set (0 - 1)\n",
    "# test_size parameter = amount of data in the test set (0 - 1)\n",
    "X_train, X_test, y_train, y_test = train_test_split(X, y, test_size=0.2, random_state=42, stratify=y) \n",
    "\n",
    "# creating logistic regression model\n",
    "model = LogisticRegression(random_state=42) \n",
    "\n",
    "# making the model parameters (X, y) available\n",
    "model.fit(X=X_train[num_vars], y=y_train) \n",
    "\n",
    "# model prediction on the train set\n",
    "y_pred_train = model.predict(X_train[num_vars]) \n",
    "# computing accuracy: how much the predicted hit is expected in the train set\n",
    "acc_train = accuracy_score(y_true=y_train, y_pred=y_pred_train) \n",
    "\n",
    "# model prediction in the test set\n",
    "y_pred_test = model.predict(X_test[num_vars]) \n",
    "# computing accuracy: how much the predicted hit is expected in the test set\n",
    "acc_test = accuracy_score(y_true=y_test, y_pred=y_pred_test) \n",
    "\n",
    "print(f'Accuracy for Training {acc_train * 100:.2f}%') \n",
    "print(f'Accuracy for Test {acc_test * 100:.2f}%')"
   ]
  },
  {
   "cell_type": "markdown",
   "id": "f862c6e3",
   "metadata": {},
   "source": [
    "#### LogisticRegression model:\n",
    "\n",
    "- Training Accuracy 82.79%\n",
    "- Test Accuracy 80.82%"
   ]
  },
  {
   "cell_type": "code",
   "execution_count": 27,
   "id": "f82c731a",
   "metadata": {},
   "outputs": [
    {
     "name": "stdout",
     "output_type": "stream",
     "text": [
      "Accuracy for Training 84.19%\n",
      "Accuracy for Test 81.75%\n"
     ]
    }
   ],
   "source": [
    "# splitting the dataset\n",
    "# train_size parameter = amount of data in the training set (0 - 1)\n",
    "# test_size parameter = amount of data in the test set (0 - 1)\n",
    "X_train, X_test, y_train, y_test = train_test_split(X, y, test_size=0.2, random_state=42, stratify=y) \n",
    "\n",
    "# creating logistic regression model\n",
    "model = DecisionTreeClassifier(random_state=42, max_depth=4) \n",
    "\n",
    "# making the model parameters (X, y) available\n",
    "model.fit(X=X_train[num_vars], y=y_train) \n",
    "\n",
    "# model prediction on the train set\n",
    "y_pred_train = model.predict(X_train[num_vars]) \n",
    "# computing accuracy: how much the predicted hit is expected in the train set\n",
    "acc_train = accuracy_score(y_true=y_train, y_pred=y_pred_train) \n",
    "\n",
    "# model prediction in the test set\n",
    "y_pred_test = model.predict(X_test[num_vars]) \n",
    "# computing accuracy: how much the predicted hit is expected in the test set\n",
    "acc_test = accuracy_score(y_true=y_test, y_pred=y_pred_test) \n",
    "\n",
    "print(f'Accuracy for Training {acc_train * 100:.2f}%') \n",
    "print(f'Accuracy for Test {acc_test * 100:.2f}%')"
   ]
  },
  {
   "cell_type": "markdown",
   "id": "34699c33",
   "metadata": {},
   "source": [
    "#### DecisionTreeClassifier:\n",
    "\n",
    "- Training Accuracy 84.19%\n",
    "- Test Accuracy 81.75%"
   ]
  },
  {
   "cell_type": "markdown",
   "id": "7b55e94f",
   "metadata": {},
   "source": [
    "### Applying feature engineering"
   ]
  },
  {
   "cell_type": "code",
   "execution_count": 28,
   "id": "746f8136",
   "metadata": {},
   "outputs": [
    {
     "data": {
      "text/html": [
       "<div>\n",
       "<style scoped>\n",
       "    .dataframe tbody tr th:only-of-type {\n",
       "        vertical-align: middle;\n",
       "    }\n",
       "\n",
       "    .dataframe tbody tr th {\n",
       "        vertical-align: top;\n",
       "    }\n",
       "\n",
       "    .dataframe thead th {\n",
       "        text-align: right;\n",
       "    }\n",
       "</style>\n",
       "<table border=\"1\" class=\"dataframe\">\n",
       "  <thead>\n",
       "    <tr style=\"text-align: right;\">\n",
       "      <th></th>\n",
       "      <th>uf</th>\n",
       "      <th>tot_orders_12m</th>\n",
       "      <th>tot_items_12m</th>\n",
       "      <th>tot_items_dist_12m</th>\n",
       "      <th>receita_12m</th>\n",
       "      <th>recencia</th>\n",
       "    </tr>\n",
       "  </thead>\n",
       "  <tbody>\n",
       "    <tr>\n",
       "      <th>2658</th>\n",
       "      <td>SP</td>\n",
       "      <td>2</td>\n",
       "      <td>2</td>\n",
       "      <td>2</td>\n",
       "      <td>85.29</td>\n",
       "      <td>258</td>\n",
       "    </tr>\n",
       "    <tr>\n",
       "      <th>876</th>\n",
       "      <td>MG</td>\n",
       "      <td>2</td>\n",
       "      <td>2</td>\n",
       "      <td>2</td>\n",
       "      <td>223.90</td>\n",
       "      <td>50</td>\n",
       "    </tr>\n",
       "    <tr>\n",
       "      <th>959</th>\n",
       "      <td>SP</td>\n",
       "      <td>1</td>\n",
       "      <td>1</td>\n",
       "      <td>1</td>\n",
       "      <td>670.00</td>\n",
       "      <td>1</td>\n",
       "    </tr>\n",
       "    <tr>\n",
       "      <th>1143</th>\n",
       "      <td>SP</td>\n",
       "      <td>1</td>\n",
       "      <td>4</td>\n",
       "      <td>1</td>\n",
       "      <td>143.60</td>\n",
       "      <td>61</td>\n",
       "    </tr>\n",
       "    <tr>\n",
       "      <th>3787</th>\n",
       "      <td>SP</td>\n",
       "      <td>2</td>\n",
       "      <td>2</td>\n",
       "      <td>2</td>\n",
       "      <td>115.00</td>\n",
       "      <td>4</td>\n",
       "    </tr>\n",
       "  </tbody>\n",
       "</table>\n",
       "</div>"
      ],
      "text/plain": [
       "      uf  tot_orders_12m  tot_items_12m  tot_items_dist_12m  receita_12m  \\\n",
       "2658  SP               2              2                   2        85.29   \n",
       "876   MG               2              2                   2       223.90   \n",
       "959   SP               1              1                   1       670.00   \n",
       "1143  SP               1              4                   1       143.60   \n",
       "3787  SP               2              2                   2       115.00   \n",
       "\n",
       "      recencia  \n",
       "2658       258  \n",
       "876         50  \n",
       "959          1  \n",
       "1143        61  \n",
       "3787         4  "
      ]
     },
     "execution_count": 28,
     "metadata": {},
     "output_type": "execute_result"
    }
   ],
   "source": [
    "# viewing our training dataset\n",
    "X_train.head()"
   ]
  },
  {
   "cell_type": "code",
   "execution_count": 29,
   "id": "99aaccd1",
   "metadata": {},
   "outputs": [
    {
     "data": {
      "text/html": [
       "<div>\n",
       "<style scoped>\n",
       "    .dataframe tbody tr th:only-of-type {\n",
       "        vertical-align: middle;\n",
       "    }\n",
       "\n",
       "    .dataframe tbody tr th {\n",
       "        vertical-align: top;\n",
       "    }\n",
       "\n",
       "    .dataframe thead th {\n",
       "        text-align: right;\n",
       "    }\n",
       "</style>\n",
       "<table border=\"1\" class=\"dataframe\">\n",
       "  <thead>\n",
       "    <tr style=\"text-align: right;\">\n",
       "      <th></th>\n",
       "      <th>uf</th>\n",
       "      <th>tot_orders_12m</th>\n",
       "      <th>tot_items_12m</th>\n",
       "      <th>tot_items_dist_12m</th>\n",
       "      <th>receita_12m</th>\n",
       "      <th>recencia</th>\n",
       "    </tr>\n",
       "  </thead>\n",
       "  <tbody>\n",
       "    <tr>\n",
       "      <th>72</th>\n",
       "      <td>SP</td>\n",
       "      <td>4</td>\n",
       "      <td>4</td>\n",
       "      <td>4</td>\n",
       "      <td>269.60</td>\n",
       "      <td>42</td>\n",
       "    </tr>\n",
       "    <tr>\n",
       "      <th>5029</th>\n",
       "      <td>SP</td>\n",
       "      <td>58</td>\n",
       "      <td>78</td>\n",
       "      <td>25</td>\n",
       "      <td>3088.82</td>\n",
       "      <td>10</td>\n",
       "    </tr>\n",
       "    <tr>\n",
       "      <th>126</th>\n",
       "      <td>SP</td>\n",
       "      <td>4</td>\n",
       "      <td>4</td>\n",
       "      <td>3</td>\n",
       "      <td>1094.00</td>\n",
       "      <td>44</td>\n",
       "    </tr>\n",
       "    <tr>\n",
       "      <th>4399</th>\n",
       "      <td>PR</td>\n",
       "      <td>1</td>\n",
       "      <td>1</td>\n",
       "      <td>1</td>\n",
       "      <td>343.00</td>\n",
       "      <td>173</td>\n",
       "    </tr>\n",
       "    <tr>\n",
       "      <th>166</th>\n",
       "      <td>GO</td>\n",
       "      <td>3</td>\n",
       "      <td>3</td>\n",
       "      <td>3</td>\n",
       "      <td>594.99</td>\n",
       "      <td>62</td>\n",
       "    </tr>\n",
       "  </tbody>\n",
       "</table>\n",
       "</div>"
      ],
      "text/plain": [
       "      uf  tot_orders_12m  tot_items_12m  tot_items_dist_12m  receita_12m  \\\n",
       "72    SP               4              4                   4       269.60   \n",
       "5029  SP              58             78                  25      3088.82   \n",
       "126   SP               4              4                   3      1094.00   \n",
       "4399  PR               1              1                   1       343.00   \n",
       "166   GO               3              3                   3       594.99   \n",
       "\n",
       "      recencia  \n",
       "72          42  \n",
       "5029        10  \n",
       "126         44  \n",
       "4399       173  \n",
       "166         62  "
      ]
     },
     "execution_count": 29,
     "metadata": {},
     "output_type": "execute_result"
    }
   ],
   "source": [
    "# viewing our test dataset\n",
    "X_test.head()"
   ]
  },
  {
   "cell_type": "code",
   "execution_count": 30,
   "id": "58ac9821",
   "metadata": {},
   "outputs": [
    {
     "data": {
      "text/plain": [
       "OneHotEncoder(variables=['uf'])"
      ]
     },
     "execution_count": 30,
     "metadata": {},
     "output_type": "execute_result"
    }
   ],
   "source": [
    "# transformation of my DataFrame for use in the ML model\n",
    "\n",
    "# applying OneHotEncoder to categorical variables\n",
    "ohe = OneHotEncoder(variables=cat_vars)\n",
    "ohe.fit(X_train)"
   ]
  },
  {
   "cell_type": "code",
   "execution_count": 31,
   "id": "ca8d31ba",
   "metadata": {},
   "outputs": [
    {
     "data": {
      "text/html": [
       "<div>\n",
       "<style scoped>\n",
       "    .dataframe tbody tr th:only-of-type {\n",
       "        vertical-align: middle;\n",
       "    }\n",
       "\n",
       "    .dataframe tbody tr th {\n",
       "        vertical-align: top;\n",
       "    }\n",
       "\n",
       "    .dataframe thead th {\n",
       "        text-align: right;\n",
       "    }\n",
       "</style>\n",
       "<table border=\"1\" class=\"dataframe\">\n",
       "  <thead>\n",
       "    <tr style=\"text-align: right;\">\n",
       "      <th></th>\n",
       "      <th>tot_orders_12m</th>\n",
       "      <th>tot_items_12m</th>\n",
       "      <th>tot_items_dist_12m</th>\n",
       "      <th>receita_12m</th>\n",
       "      <th>recencia</th>\n",
       "      <th>uf_SP</th>\n",
       "      <th>uf_MG</th>\n",
       "      <th>uf_SC</th>\n",
       "      <th>uf_DF</th>\n",
       "      <th>uf_PR</th>\n",
       "      <th>...</th>\n",
       "      <th>uf_PA</th>\n",
       "      <th>uf_MS</th>\n",
       "      <th>uf_GO</th>\n",
       "      <th>uf_RN</th>\n",
       "      <th>uf_MT</th>\n",
       "      <th>uf_CE</th>\n",
       "      <th>uf_RO</th>\n",
       "      <th>uf_AM</th>\n",
       "      <th>uf_PI</th>\n",
       "      <th>uf_MA</th>\n",
       "    </tr>\n",
       "  </thead>\n",
       "  <tbody>\n",
       "    <tr>\n",
       "      <th>2658</th>\n",
       "      <td>2</td>\n",
       "      <td>2</td>\n",
       "      <td>2</td>\n",
       "      <td>85.29</td>\n",
       "      <td>258</td>\n",
       "      <td>1</td>\n",
       "      <td>0</td>\n",
       "      <td>0</td>\n",
       "      <td>0</td>\n",
       "      <td>0</td>\n",
       "      <td>...</td>\n",
       "      <td>0</td>\n",
       "      <td>0</td>\n",
       "      <td>0</td>\n",
       "      <td>0</td>\n",
       "      <td>0</td>\n",
       "      <td>0</td>\n",
       "      <td>0</td>\n",
       "      <td>0</td>\n",
       "      <td>0</td>\n",
       "      <td>0</td>\n",
       "    </tr>\n",
       "    <tr>\n",
       "      <th>876</th>\n",
       "      <td>2</td>\n",
       "      <td>2</td>\n",
       "      <td>2</td>\n",
       "      <td>223.90</td>\n",
       "      <td>50</td>\n",
       "      <td>0</td>\n",
       "      <td>1</td>\n",
       "      <td>0</td>\n",
       "      <td>0</td>\n",
       "      <td>0</td>\n",
       "      <td>...</td>\n",
       "      <td>0</td>\n",
       "      <td>0</td>\n",
       "      <td>0</td>\n",
       "      <td>0</td>\n",
       "      <td>0</td>\n",
       "      <td>0</td>\n",
       "      <td>0</td>\n",
       "      <td>0</td>\n",
       "      <td>0</td>\n",
       "      <td>0</td>\n",
       "    </tr>\n",
       "    <tr>\n",
       "      <th>959</th>\n",
       "      <td>1</td>\n",
       "      <td>1</td>\n",
       "      <td>1</td>\n",
       "      <td>670.00</td>\n",
       "      <td>1</td>\n",
       "      <td>1</td>\n",
       "      <td>0</td>\n",
       "      <td>0</td>\n",
       "      <td>0</td>\n",
       "      <td>0</td>\n",
       "      <td>...</td>\n",
       "      <td>0</td>\n",
       "      <td>0</td>\n",
       "      <td>0</td>\n",
       "      <td>0</td>\n",
       "      <td>0</td>\n",
       "      <td>0</td>\n",
       "      <td>0</td>\n",
       "      <td>0</td>\n",
       "      <td>0</td>\n",
       "      <td>0</td>\n",
       "    </tr>\n",
       "    <tr>\n",
       "      <th>1143</th>\n",
       "      <td>1</td>\n",
       "      <td>4</td>\n",
       "      <td>1</td>\n",
       "      <td>143.60</td>\n",
       "      <td>61</td>\n",
       "      <td>1</td>\n",
       "      <td>0</td>\n",
       "      <td>0</td>\n",
       "      <td>0</td>\n",
       "      <td>0</td>\n",
       "      <td>...</td>\n",
       "      <td>0</td>\n",
       "      <td>0</td>\n",
       "      <td>0</td>\n",
       "      <td>0</td>\n",
       "      <td>0</td>\n",
       "      <td>0</td>\n",
       "      <td>0</td>\n",
       "      <td>0</td>\n",
       "      <td>0</td>\n",
       "      <td>0</td>\n",
       "    </tr>\n",
       "    <tr>\n",
       "      <th>3787</th>\n",
       "      <td>2</td>\n",
       "      <td>2</td>\n",
       "      <td>2</td>\n",
       "      <td>115.00</td>\n",
       "      <td>4</td>\n",
       "      <td>1</td>\n",
       "      <td>0</td>\n",
       "      <td>0</td>\n",
       "      <td>0</td>\n",
       "      <td>0</td>\n",
       "      <td>...</td>\n",
       "      <td>0</td>\n",
       "      <td>0</td>\n",
       "      <td>0</td>\n",
       "      <td>0</td>\n",
       "      <td>0</td>\n",
       "      <td>0</td>\n",
       "      <td>0</td>\n",
       "      <td>0</td>\n",
       "      <td>0</td>\n",
       "      <td>0</td>\n",
       "    </tr>\n",
       "    <tr>\n",
       "      <th>...</th>\n",
       "      <td>...</td>\n",
       "      <td>...</td>\n",
       "      <td>...</td>\n",
       "      <td>...</td>\n",
       "      <td>...</td>\n",
       "      <td>...</td>\n",
       "      <td>...</td>\n",
       "      <td>...</td>\n",
       "      <td>...</td>\n",
       "      <td>...</td>\n",
       "      <td>...</td>\n",
       "      <td>...</td>\n",
       "      <td>...</td>\n",
       "      <td>...</td>\n",
       "      <td>...</td>\n",
       "      <td>...</td>\n",
       "      <td>...</td>\n",
       "      <td>...</td>\n",
       "      <td>...</td>\n",
       "      <td>...</td>\n",
       "      <td>...</td>\n",
       "    </tr>\n",
       "    <tr>\n",
       "      <th>4785</th>\n",
       "      <td>16</td>\n",
       "      <td>21</td>\n",
       "      <td>13</td>\n",
       "      <td>6821.43</td>\n",
       "      <td>1</td>\n",
       "      <td>0</td>\n",
       "      <td>1</td>\n",
       "      <td>0</td>\n",
       "      <td>0</td>\n",
       "      <td>0</td>\n",
       "      <td>...</td>\n",
       "      <td>0</td>\n",
       "      <td>0</td>\n",
       "      <td>0</td>\n",
       "      <td>0</td>\n",
       "      <td>0</td>\n",
       "      <td>0</td>\n",
       "      <td>0</td>\n",
       "      <td>0</td>\n",
       "      <td>0</td>\n",
       "      <td>0</td>\n",
       "    </tr>\n",
       "    <tr>\n",
       "      <th>691</th>\n",
       "      <td>13</td>\n",
       "      <td>13</td>\n",
       "      <td>2</td>\n",
       "      <td>4387.00</td>\n",
       "      <td>48</td>\n",
       "      <td>0</td>\n",
       "      <td>1</td>\n",
       "      <td>0</td>\n",
       "      <td>0</td>\n",
       "      <td>0</td>\n",
       "      <td>...</td>\n",
       "      <td>0</td>\n",
       "      <td>0</td>\n",
       "      <td>0</td>\n",
       "      <td>0</td>\n",
       "      <td>0</td>\n",
       "      <td>0</td>\n",
       "      <td>0</td>\n",
       "      <td>0</td>\n",
       "      <td>0</td>\n",
       "      <td>0</td>\n",
       "    </tr>\n",
       "    <tr>\n",
       "      <th>1113</th>\n",
       "      <td>2</td>\n",
       "      <td>2</td>\n",
       "      <td>2</td>\n",
       "      <td>677.00</td>\n",
       "      <td>26</td>\n",
       "      <td>1</td>\n",
       "      <td>0</td>\n",
       "      <td>0</td>\n",
       "      <td>0</td>\n",
       "      <td>0</td>\n",
       "      <td>...</td>\n",
       "      <td>0</td>\n",
       "      <td>0</td>\n",
       "      <td>0</td>\n",
       "      <td>0</td>\n",
       "      <td>0</td>\n",
       "      <td>0</td>\n",
       "      <td>0</td>\n",
       "      <td>0</td>\n",
       "      <td>0</td>\n",
       "      <td>0</td>\n",
       "    </tr>\n",
       "    <tr>\n",
       "      <th>4580</th>\n",
       "      <td>59</td>\n",
       "      <td>69</td>\n",
       "      <td>10</td>\n",
       "      <td>5633.62</td>\n",
       "      <td>211</td>\n",
       "      <td>1</td>\n",
       "      <td>0</td>\n",
       "      <td>0</td>\n",
       "      <td>0</td>\n",
       "      <td>0</td>\n",
       "      <td>...</td>\n",
       "      <td>0</td>\n",
       "      <td>0</td>\n",
       "      <td>0</td>\n",
       "      <td>0</td>\n",
       "      <td>0</td>\n",
       "      <td>0</td>\n",
       "      <td>0</td>\n",
       "      <td>0</td>\n",
       "      <td>0</td>\n",
       "      <td>0</td>\n",
       "    </tr>\n",
       "    <tr>\n",
       "      <th>1703</th>\n",
       "      <td>9</td>\n",
       "      <td>9</td>\n",
       "      <td>5</td>\n",
       "      <td>1435.10</td>\n",
       "      <td>1</td>\n",
       "      <td>1</td>\n",
       "      <td>0</td>\n",
       "      <td>0</td>\n",
       "      <td>0</td>\n",
       "      <td>0</td>\n",
       "      <td>...</td>\n",
       "      <td>0</td>\n",
       "      <td>0</td>\n",
       "      <td>0</td>\n",
       "      <td>0</td>\n",
       "      <td>0</td>\n",
       "      <td>0</td>\n",
       "      <td>0</td>\n",
       "      <td>0</td>\n",
       "      <td>0</td>\n",
       "      <td>0</td>\n",
       "    </tr>\n",
       "  </tbody>\n",
       "</table>\n",
       "<p>4295 rows × 27 columns</p>\n",
       "</div>"
      ],
      "text/plain": [
       "      tot_orders_12m  tot_items_12m  tot_items_dist_12m  receita_12m  \\\n",
       "2658               2              2                   2        85.29   \n",
       "876                2              2                   2       223.90   \n",
       "959                1              1                   1       670.00   \n",
       "1143               1              4                   1       143.60   \n",
       "3787               2              2                   2       115.00   \n",
       "...              ...            ...                 ...          ...   \n",
       "4785              16             21                  13      6821.43   \n",
       "691               13             13                   2      4387.00   \n",
       "1113               2              2                   2       677.00   \n",
       "4580              59             69                  10      5633.62   \n",
       "1703               9              9                   5      1435.10   \n",
       "\n",
       "      recencia  uf_SP  uf_MG  uf_SC  uf_DF  uf_PR  ...  uf_PA  uf_MS  uf_GO  \\\n",
       "2658       258      1      0      0      0      0  ...      0      0      0   \n",
       "876         50      0      1      0      0      0  ...      0      0      0   \n",
       "959          1      1      0      0      0      0  ...      0      0      0   \n",
       "1143        61      1      0      0      0      0  ...      0      0      0   \n",
       "3787         4      1      0      0      0      0  ...      0      0      0   \n",
       "...        ...    ...    ...    ...    ...    ...  ...    ...    ...    ...   \n",
       "4785         1      0      1      0      0      0  ...      0      0      0   \n",
       "691         48      0      1      0      0      0  ...      0      0      0   \n",
       "1113        26      1      0      0      0      0  ...      0      0      0   \n",
       "4580       211      1      0      0      0      0  ...      0      0      0   \n",
       "1703         1      1      0      0      0      0  ...      0      0      0   \n",
       "\n",
       "      uf_RN  uf_MT  uf_CE  uf_RO  uf_AM  uf_PI  uf_MA  \n",
       "2658      0      0      0      0      0      0      0  \n",
       "876       0      0      0      0      0      0      0  \n",
       "959       0      0      0      0      0      0      0  \n",
       "1143      0      0      0      0      0      0      0  \n",
       "3787      0      0      0      0      0      0      0  \n",
       "...     ...    ...    ...    ...    ...    ...    ...  \n",
       "4785      0      0      0      0      0      0      0  \n",
       "691       0      0      0      0      0      0      0  \n",
       "1113      0      0      0      0      0      0      0  \n",
       "4580      0      0      0      0      0      0      0  \n",
       "1703      0      0      0      0      0      0      0  \n",
       "\n",
       "[4295 rows x 27 columns]"
      ]
     },
     "execution_count": 31,
     "metadata": {},
     "output_type": "execute_result"
    }
   ],
   "source": [
    "# applying OneHotEncoder to variable ['uf']\n",
    "ohe.transform(X_train)"
   ]
  },
  {
   "cell_type": "code",
   "execution_count": 32,
   "id": "cb1c13e3",
   "metadata": {},
   "outputs": [
    {
     "data": {
      "text/plain": [
       "Index(['tot_orders_12m', 'tot_items_12m', 'tot_items_dist_12m', 'receita_12m',\n",
       "       'recencia', 'uf_SP', 'uf_MG', 'uf_SC', 'uf_DF', 'uf_PR', 'uf_BA',\n",
       "       'uf_RS', 'uf_RJ', 'uf_PB', 'uf_ES', 'uf_SE', 'uf_PE', 'uf_PA', 'uf_MS',\n",
       "       'uf_GO', 'uf_RN', 'uf_MT', 'uf_CE', 'uf_RO', 'uf_AM', 'uf_PI', 'uf_MA'],\n",
       "      dtype='object')"
      ]
     },
     "execution_count": 32,
     "metadata": {},
     "output_type": "execute_result"
    }
   ],
   "source": [
    "# after counting the columns in training and testing, it is clear that there are\n",
    "# 4 extra columns in training\n",
    "ohe.transform(X_train).columns"
   ]
  },
  {
   "cell_type": "code",
   "execution_count": 33,
   "id": "b008f16a",
   "metadata": {},
   "outputs": [
    {
     "data": {
      "text/plain": [
       "Index(['tot_orders_12m', 'tot_items_12m', 'tot_items_dist_12m', 'receita_12m',\n",
       "       'recencia', 'uf_SP', 'uf_MG', 'uf_SC', 'uf_DF', 'uf_PR', 'uf_BA',\n",
       "       'uf_RS', 'uf_RJ', 'uf_PB', 'uf_ES', 'uf_SE', 'uf_PE', 'uf_PA', 'uf_MS',\n",
       "       'uf_GO', 'uf_RN', 'uf_MT', 'uf_CE', 'uf_RO', 'uf_AM', 'uf_PI', 'uf_MA'],\n",
       "      dtype='object')"
      ]
     },
     "execution_count": 33,
     "metadata": {},
     "output_type": "execute_result"
    }
   ],
   "source": [
    "# after counting the columns in training and testing, it is clear that there are\n",
    "# 4 more columns in trainingohe.transform(X_test).columns\n",
    "ohe.transform(X_test).columns"
   ]
  },
  {
   "cell_type": "code",
   "execution_count": 34,
   "id": "72aab302",
   "metadata": {},
   "outputs": [
    {
     "data": {
      "text/html": [
       "<div>\n",
       "<style scoped>\n",
       "    .dataframe tbody tr th:only-of-type {\n",
       "        vertical-align: middle;\n",
       "    }\n",
       "\n",
       "    .dataframe tbody tr th {\n",
       "        vertical-align: top;\n",
       "    }\n",
       "\n",
       "    .dataframe thead th {\n",
       "        text-align: right;\n",
       "    }\n",
       "</style>\n",
       "<table border=\"1\" class=\"dataframe\">\n",
       "  <thead>\n",
       "    <tr style=\"text-align: right;\">\n",
       "      <th></th>\n",
       "      <th>tot_orders_12m</th>\n",
       "      <th>tot_items_12m</th>\n",
       "      <th>tot_items_dist_12m</th>\n",
       "      <th>receita_12m</th>\n",
       "      <th>recencia</th>\n",
       "      <th>uf_SP</th>\n",
       "      <th>uf_MG</th>\n",
       "      <th>uf_SC</th>\n",
       "      <th>uf_DF</th>\n",
       "      <th>uf_PR</th>\n",
       "      <th>...</th>\n",
       "      <th>uf_PA</th>\n",
       "      <th>uf_MS</th>\n",
       "      <th>uf_GO</th>\n",
       "      <th>uf_RN</th>\n",
       "      <th>uf_MT</th>\n",
       "      <th>uf_CE</th>\n",
       "      <th>uf_RO</th>\n",
       "      <th>uf_AM</th>\n",
       "      <th>uf_PI</th>\n",
       "      <th>uf_MA</th>\n",
       "    </tr>\n",
       "  </thead>\n",
       "  <tbody>\n",
       "    <tr>\n",
       "      <th>2658</th>\n",
       "      <td>2</td>\n",
       "      <td>2</td>\n",
       "      <td>2</td>\n",
       "      <td>85.29</td>\n",
       "      <td>258</td>\n",
       "      <td>1</td>\n",
       "      <td>0</td>\n",
       "      <td>0</td>\n",
       "      <td>0</td>\n",
       "      <td>0</td>\n",
       "      <td>...</td>\n",
       "      <td>0</td>\n",
       "      <td>0</td>\n",
       "      <td>0</td>\n",
       "      <td>0</td>\n",
       "      <td>0</td>\n",
       "      <td>0</td>\n",
       "      <td>0</td>\n",
       "      <td>0</td>\n",
       "      <td>0</td>\n",
       "      <td>0</td>\n",
       "    </tr>\n",
       "    <tr>\n",
       "      <th>876</th>\n",
       "      <td>2</td>\n",
       "      <td>2</td>\n",
       "      <td>2</td>\n",
       "      <td>223.90</td>\n",
       "      <td>50</td>\n",
       "      <td>0</td>\n",
       "      <td>1</td>\n",
       "      <td>0</td>\n",
       "      <td>0</td>\n",
       "      <td>0</td>\n",
       "      <td>...</td>\n",
       "      <td>0</td>\n",
       "      <td>0</td>\n",
       "      <td>0</td>\n",
       "      <td>0</td>\n",
       "      <td>0</td>\n",
       "      <td>0</td>\n",
       "      <td>0</td>\n",
       "      <td>0</td>\n",
       "      <td>0</td>\n",
       "      <td>0</td>\n",
       "    </tr>\n",
       "    <tr>\n",
       "      <th>959</th>\n",
       "      <td>1</td>\n",
       "      <td>1</td>\n",
       "      <td>1</td>\n",
       "      <td>670.00</td>\n",
       "      <td>1</td>\n",
       "      <td>1</td>\n",
       "      <td>0</td>\n",
       "      <td>0</td>\n",
       "      <td>0</td>\n",
       "      <td>0</td>\n",
       "      <td>...</td>\n",
       "      <td>0</td>\n",
       "      <td>0</td>\n",
       "      <td>0</td>\n",
       "      <td>0</td>\n",
       "      <td>0</td>\n",
       "      <td>0</td>\n",
       "      <td>0</td>\n",
       "      <td>0</td>\n",
       "      <td>0</td>\n",
       "      <td>0</td>\n",
       "    </tr>\n",
       "  </tbody>\n",
       "</table>\n",
       "<p>3 rows × 27 columns</p>\n",
       "</div>"
      ],
      "text/plain": [
       "      tot_orders_12m  tot_items_12m  tot_items_dist_12m  receita_12m  \\\n",
       "2658               2              2                   2        85.29   \n",
       "876                2              2                   2       223.90   \n",
       "959                1              1                   1       670.00   \n",
       "\n",
       "      recencia  uf_SP  uf_MG  uf_SC  uf_DF  uf_PR  ...  uf_PA  uf_MS  uf_GO  \\\n",
       "2658       258      1      0      0      0      0  ...      0      0      0   \n",
       "876         50      0      1      0      0      0  ...      0      0      0   \n",
       "959          1      1      0      0      0      0  ...      0      0      0   \n",
       "\n",
       "      uf_RN  uf_MT  uf_CE  uf_RO  uf_AM  uf_PI  uf_MA  \n",
       "2658      0      0      0      0      0      0      0  \n",
       "876       0      0      0      0      0      0      0  \n",
       "959       0      0      0      0      0      0      0  \n",
       "\n",
       "[3 rows x 27 columns]"
      ]
     },
     "execution_count": 34,
     "metadata": {},
     "output_type": "execute_result"
    }
   ],
   "source": [
    "# transformation of my DataFrame for use in the ML model\n",
    "\n",
    "# applying OneHotEncoder to categorical variables\n",
    "ohe = OneHotEncoder(variables=cat_vars)\n",
    "ohe.fit(X_train)\n",
    "\n",
    "X_train_transformed = ohe.transform(X_train)\n",
    "X_train_transformed.head(3)"
   ]
  },
  {
   "cell_type": "code",
   "execution_count": 35,
   "id": "d3926215",
   "metadata": {},
   "outputs": [
    {
     "name": "stdout",
     "output_type": "stream",
     "text": [
      "Accuracy for Training 82.77%\n",
      "Accuracy for Test 80.73%\n"
     ]
    },
    {
     "name": "stderr",
     "output_type": "stream",
     "text": [
      "/Users/dellacorte/opt/anaconda3/lib/python3.9/site-packages/sklearn/linear_model/_logistic.py:814: ConvergenceWarning: lbfgs failed to converge (status=1):\n",
      "STOP: TOTAL NO. of ITERATIONS REACHED LIMIT.\n",
      "\n",
      "Increase the number of iterations (max_iter) or scale the data as shown in:\n",
      "    https://scikit-learn.org/stable/modules/preprocessing.html\n",
      "Please also refer to the documentation for alternative solver options:\n",
      "    https://scikit-learn.org/stable/modules/linear_model.html#logistic-regression\n",
      "  n_iter_i = _check_optimize_result(\n"
     ]
    }
   ],
   "source": [
    "# creating my logistic regression model and applying it to the sets\n",
    "model = LogisticRegression(random_state=42)\n",
    "model.fit(X=X_train_transformed, y=y_train)\n",
    "\n",
    "# model prediction on the train set\n",
    "y_pred_train = model.predict(X_train_transformed)\n",
    "\n",
    "# computing accuracy: how much the predicted hit is expected in the train set\n",
    "acc_train = accuracy_score(y_true=y_train, y_pred=y_pred_train)\n",
    "\n",
    "# model prediction in the test set\n",
    "# it is necessary to do this transformation in the test set for it to work\n",
    "y_pred_test = model.predict(ohe.transform(X_test)) \n",
    "# computing accuracy: how much the predicted hit is expected in the test set\n",
    "acc_test = accuracy_score(y_true=y_test, y_pred=y_pred_test) \n",
    "\n",
    "\n",
    "print(f'Accuracy for Training {acc_train * 100:.2f}%') \n",
    "print(f'Accuracy for Test {acc_test * 100:.2f}%')"
   ]
  },
  {
   "cell_type": "code",
   "execution_count": 36,
   "id": "47cbcfeb",
   "metadata": {},
   "outputs": [
    {
     "name": "stdout",
     "output_type": "stream",
     "text": [
      "Accuracy for Training 82.77%\n",
      "Accuracy for Test 80.73%\n"
     ]
    },
    {
     "name": "stderr",
     "output_type": "stream",
     "text": [
      "/Users/dellacorte/opt/anaconda3/lib/python3.9/site-packages/sklearn/linear_model/_logistic.py:814: ConvergenceWarning: lbfgs failed to converge (status=1):\n",
      "STOP: TOTAL NO. of ITERATIONS REACHED LIMIT.\n",
      "\n",
      "Increase the number of iterations (max_iter) or scale the data as shown in:\n",
      "    https://scikit-learn.org/stable/modules/preprocessing.html\n",
      "Please also refer to the documentation for alternative solver options:\n",
      "    https://scikit-learn.org/stable/modules/linear_model.html#logistic-regression\n",
      "  n_iter_i = _check_optimize_result(\n"
     ]
    }
   ],
   "source": [
    "# applying OneHotEncoder to my categorical variables\n",
    "\n",
    "# dividing my dataset into training and testing sets\n",
    "X_train, X_test, y_train, y_test = train_test_split(X, y, test_size=0.2, random_state=42, stratify=y) \n",
    "\n",
    "# transformation of categorical data\n",
    "ohe = OneHotEncoder(variables=cat_vars) \n",
    "ohe.fit(X_train)\n",
    "# applying the transformation to the training and test sets\n",
    "X_train_transformed = ohe.transform(X_train) \n",
    "X_test_transformed = ohe.transform(X_test) \n",
    "\n",
    "# creation of the machine learning model for categorical data\n",
    "model = LogisticRegression(random_state=42) \n",
    "model.fit(X=X_train_transformed, y=y_train)\n",
    "\n",
    "# Result based on training \n",
    "y_pred_train = model.predict(X_train_transformed) \n",
    "acc_train = accuracy_score(y_true=y_train, y_pred=y_pred_train) \n",
    "print(f'Accuracy for Training {acc_train * 100:.2f}%') \n",
    "\n",
    "# Result in the test base \n",
    "y_pred_test = model.predict(X_test_transformed) \n",
    "acc_test = accuracy_score(y_true=y_test, y_pred=y_pred_test) \n",
    "print(f'Accuracy for Test {acc_test * 100:.2f}%')"
   ]
  },
  {
   "cell_type": "code",
   "execution_count": 37,
   "id": "88a8af9c",
   "metadata": {},
   "outputs": [
    {
     "name": "stdout",
     "output_type": "stream",
     "text": [
      "Accuracy for Training 83.07%\n",
      "Accuracy for Test 80.73%\n"
     ]
    }
   ],
   "source": [
    "# aplicando StandardScaler para minhas variáveis numéricas\n",
    "\n",
    "# dividing my dataset into training and testing sets\n",
    "X_train, X_test, y_train, y_test = train_test_split(X, y, test_size=0.2, random_state=42, stratify=y)\n",
    "\n",
    "# transformation of numeric data\n",
    "std_scaler = SklearnTransformerWrapper(transformer=StandardScaler(), variables=num_vars)\n",
    "std_scaler.fit(X_train_transformed)\n",
    "\n",
    "# applying the transformation to the training and test sets\n",
    "X_train_transformed_with_std_scaler = std_scaler.transform(X_train_transformed) \n",
    "X_test_transformed_with_std_scaler = std_scaler.transform(X_test_transformed) \n",
    "\n",
    "# creation of the machine learning model for numerical data\n",
    "model = LogisticRegression(random_state=42) \n",
    "model.fit(X=X_train_transformed_with_std_scaler, y=y_train) \n",
    "\n",
    "# Result based on training \n",
    "y_pred_train = model.predict(X_train_transformed_with_std_scaler) \n",
    "acc_train = accuracy_score(y_true=y_train, y_pred=y_pred_train) \n",
    "print(f'Accuracy for Training {acc_train * 100:.2f}%') \n",
    "\n",
    "# Result in the test base \n",
    "y_pred_test = model.predict(X_test_transformed_with_std_scaler) \n",
    "acc_test = accuracy_score(y_true=y_test, y_pred=y_pred_test) \n",
    "print(f'Accuracy for Test {acc_test * 100:.2f}%')"
   ]
  },
  {
   "cell_type": "code",
   "execution_count": 39,
   "id": "453745ce",
   "metadata": {},
   "outputs": [
    {
     "name": "stdout",
     "output_type": "stream",
     "text": [
      "Accuracy for Training 77.51%\n",
      "Accuracy for Training 83.07%\n",
      "Accuracy for Test 76.44%\n",
      "Accuracy for Test 80.73%\n"
     ]
    },
    {
     "name": "stderr",
     "output_type": "stream",
     "text": [
      "/Users/dellacorte/opt/anaconda3/lib/python3.9/site-packages/sklearn/linear_model/_logistic.py:814: ConvergenceWarning: lbfgs failed to converge (status=1):\n",
      "STOP: TOTAL NO. of ITERATIONS REACHED LIMIT.\n",
      "\n",
      "Increase the number of iterations (max_iter) or scale the data as shown in:\n",
      "    https://scikit-learn.org/stable/modules/preprocessing.html\n",
      "Please also refer to the documentation for alternative solver options:\n",
      "    https://scikit-learn.org/stable/modules/linear_model.html#logistic-regression\n",
      "  n_iter_i = _check_optimize_result(\n"
     ]
    }
   ],
   "source": [
    "# dividing my dataset into training and testing sets\n",
    "X_train, X_test, y_train, y_test = train_test_split(X, y, test_size=0.2, random_state=42, stratify=y) \n",
    "\n",
    "# transformation of categorical data\n",
    "ohe = OneHotEncoder(variables=cat_vars) \n",
    "ohe.fit(X_train)\n",
    "# applying the transformation to the training and test sets\n",
    "X_train_transformed = ohe.transform(X_train) \n",
    "X_test_transformed = ohe.transform(X_test) \n",
    "\n",
    "# transformation of numeric data\n",
    "std_scaler = SklearnTransformerWrapper(transformer=StandardScaler(), variables=num_vars)\n",
    "std_scaler.fit(X_train_transformed)\n",
    "# applying the transformation to the training and test sets\n",
    "X_train_transformed_with_std_scaler = std_scaler.transform(X_train_transformed) \n",
    "X_test_transformed_with_std_scaler = std_scaler.transform(X_test_transformed)\n",
    "\n",
    "# creation of the machine learning model for categorical data\n",
    "model = LogisticRegression(random_state=42) \n",
    "model.fit(X=X_train_transformed, y=y_train)\n",
    "\n",
    "# creation of the machine learning model for numerical data\n",
    "model = LogisticRegression(random_state=42) \n",
    "model.fit(X=X_train_transformed_with_std_scaler, y=y_train) \n",
    "\n",
    "# Result based on training categorical variables\n",
    "y_pred_train = model.predict(X_train_transformed) \n",
    "acc_train = accuracy_score(y_true=y_train, y_pred=y_pred_train) \n",
    "print(f'Accuracy for Training {acc_train * 100:.2f}%') \n",
    "\n",
    "# Result based on training numerical variables\n",
    "y_pred_train = model.predict(X_train_transformed_with_std_scaler) \n",
    "acc_train = accuracy_score(y_true=y_train, y_pred=y_pred_train) \n",
    "print(f'Accuracy for Training {acc_train * 100:.2f}%') \n",
    "\n",
    "# Result on the test basis for categorical variables\n",
    "y_pred_test = model.predict(X_test_transformed) \n",
    "acc_test = accuracy_score(y_true=y_test, y_pred=y_pred_test) \n",
    "print(f'Accuracy for Test {acc_test * 100:.2f}%') \n",
    "\n",
    "# Result on the test basis of numerical variables\n",
    "y_pred_test = model.predict(X_test_transformed_with_std_scaler) \n",
    "acc_test = accuracy_score(y_true=y_test, y_pred=y_pred_test) \n",
    "print(f'Accuracy for Test {acc_test * 100:.2f}%')"
   ]
  },
  {
   "cell_type": "markdown",
   "id": "32acd3e3",
   "metadata": {},
   "source": [
    "## Analysis of Machine Learning Results\n",
    "\n",
    "### Dataset Preparation\n",
    "The dataset was divided into training and testing sets:\n",
    "\n",
    "##### Training Set: \n",
    "- Used to train the machine learning model (80% of the dataset).\n",
    "\n",
    "##### Testing Set: \n",
    "- Used to evaluate the model's performance (20% of the dataset).\n",
    "\n",
    "##### Stratified Sampling: \n",
    "- Ensured that the target variable's distribution is consistent across both training and testing sets.\n",
    "\n",
    "\n",
    "### Data Transformation\n",
    "Two types of transformations were applied:\n",
    "\n",
    "##### Categorical Data: \n",
    "- Encoded using OneHotEncoder, which converts categorical variables into a binary (0/1) format suitable for machine learning models.\n",
    "\n",
    "##### Numeric Data: \n",
    "- Standardized using StandardScaler, which scales the numerical features to have a mean of 0 and a standard deviation of 1, improving model performance.\n",
    "\n",
    "\n",
    "### Logistic Regression Models\n",
    "Two logistic regression models were trained:\n",
    "\n",
    "##### Model 1 (Categorical Data): \n",
    "- Trained on the dataset with only categorical variables transformed by the OneHotEncoder.\n",
    "\n",
    "##### Model 2 (Numerical Data): \n",
    "- Trained on the dataset with both categorical and numerical variables, where numerical features were standardized.\n",
    "Results\n",
    "\n",
    "\n",
    "### The models were evaluated using Accuracy, which measures the percentage of correct predictions. Here are the results:\n",
    "\n",
    "##### Model 1 (Categorical Data)\n",
    "\n",
    "- Training Accuracy: 77.51%\n",
    "- Testing Accuracy: 76.44%\n",
    "\n",
    "\n",
    "##### Model 2 (Numerical Data + Standard Scaling)\n",
    "\n",
    "- Training Accuracy: 83.07%\n",
    "- Testing Accuracy: 80.73%\n",
    "\n",
    "### Insights\n",
    "\n",
    "##### Improved Performance with Numeric Data:\n",
    "- Including and standardizing numerical variables significantly improved model performance.\n",
    "- This highlights the importance of numeric features and proper scaling in machine learning models.\n",
    "\n",
    "##### Low Overfitting:\n",
    "- Both models achieved similar accuracies on training and testing datasets, indicating low overfitting.\n",
    "\n",
    "##### Better Generalization:\n",
    "- The inclusion of numerical variables allowed the model to generalize better, as evidenced by the improved test accuracy."
   ]
  },
  {
   "cell_type": "markdown",
   "id": "f7811fb7",
   "metadata": {},
   "source": [
    "### Importing Pipeline into the command sequence\n",
    "\n",
    "1. Instantiate our encoder (transformation of my categorical variables into numerical variables)\n",
    "\n",
    "2. Application of the encoder to the training set (generation of a new DataFrame with new transformed columns)\n",
    "\n",
    "3. Transformation of the test set from the training set results (I apply the transformation to the test set to allow the code to work)\n",
    "\n",
    "4. With the data pipeline, we can perform several transformations, and only one fit of the model.\n",
    "\n",
    "**More important is that, from now on, every time we use a Machine Learning model or some model Algorithm, we will carry out the steps of this process!**"
   ]
  },
  {
   "cell_type": "code",
   "execution_count": 40,
   "id": "1a47b1e9",
   "metadata": {},
   "outputs": [
    {
     "name": "stdout",
     "output_type": "stream",
     "text": [
      "Accuracy for Training 83.07%\n",
      "Accuracy for Test 80.73%\n"
     ]
    }
   ],
   "source": [
    "# applying a pipeline to perform all transformations \n",
    "# after completion, run the machine learning model\n",
    "# this step would be the unification of the transformation steps of the last cell, \n",
    "# but with all steps being executed, following the specified order\n",
    "\n",
    "X_train, X_test, y_train, y_test = train_test_split(X, y, test_size=0.2, random_state=42, stratify=y)\n",
    "\n",
    "\n",
    "data_pipe = Pipeline(steps=[\n",
    "                ('onehot_encoder', OneHotEncoder(variables=cat_vars)),\n",
    "                ('std_scaler', SklearnTransformerWrapper(transformer=StandardScaler(), variables=num_vars))\n",
    "])\n",
    "\n",
    "data_pipe.fit(X_train)\n",
    "X_train_transformed = data_pipe.transform(X_train)\n",
    "X_test_transformed= data_pipe.transform(X_test)\n",
    "\n",
    "\n",
    "\n",
    "model = LogisticRegression(random_state=42)\n",
    "model.fit(X=X_train_transformed, y=y_train)\n",
    "\n",
    "# Result based on training\n",
    "y_pred_train = model.predict(X_train_transformed)\n",
    "acc_train = accuracy_score(y_true=y_train, y_pred=y_pred_train)\n",
    "print(f'Accuracy for Training {acc_train * 100:.2f}%')\n",
    "\n",
    "# Result in the test base\n",
    "y_pred_test = model.predict(X_test_transformed)\n",
    "acc_test = accuracy_score(y_true=y_test, y_pred=y_pred_test)\n",
    "print(f'Accuracy for Test {acc_test * 100:.2f}%')"
   ]
  },
  {
   "cell_type": "code",
   "execution_count": 41,
   "id": "a5cb25aa",
   "metadata": {},
   "outputs": [
    {
     "name": "stdout",
     "output_type": "stream",
     "text": [
      "Accuracy for Training 83.07%\n",
      "Accuracy for Test 80.73%\n"
     ]
    }
   ],
   "source": [
    "X_train, X_test, y_train, y_test = train_test_split(X, y, test_size=0.2, random_state=42, stratify=y)\n",
    "\n",
    "pipeline = Pipeline(steps=[\n",
    "                ('onehot_encoder', OneHotEncoder(variables=cat_vars)),\n",
    "                ('std_scaler', SklearnTransformerWrapper(transformer=StandardScaler(), variables=num_vars)),\n",
    "                ('rl', LogisticRegression(random_state=42))\n",
    "])\n",
    "\n",
    "pipeline.fit(X=X_train, y=y_train)\n",
    "\n",
    "#Result on training basis\n",
    "y_pred_train = pipeline.predict(X_train)\n",
    "acc_train = accuracy_score(y_true=y_train, y_pred=y_pred_train)\n",
    "print(f'Accuracy for Training {acc_train * 100:.2f}%')\n",
    "\n",
    "# Result in the test base\n",
    "y_pred_test = pipeline.predict(X_test)\n",
    "acc_test = accuracy_score(y_true=y_test, y_pred=y_pred_test)\n",
    "print(f'Accuracy for Test {acc_test * 100:.2f}%')"
   ]
  },
  {
   "cell_type": "markdown",
   "id": "465a1fde",
   "metadata": {},
   "source": [
    "## Saving our data pipeline + algorithm with the pickle library"
   ]
  },
  {
   "cell_type": "code",
   "execution_count": 48,
   "id": "b011f21a",
   "metadata": {},
   "outputs": [
    {
     "data": {
      "text/plain": [
       "['/Users/dellacorte/py-projects/data-science/supervised-learning-pipeline-reference/classification/models/pipeline_baseline_rl.joblib']"
      ]
     },
     "execution_count": 48,
     "metadata": {},
     "output_type": "execute_result"
    }
   ],
   "source": [
    "# Save pipeline and model\n",
    "dump([pipeline, model], '/Users/dellacorte/py-projects/data-science/supervised-learning-pipeline-reference/classification/models/pipeline_baseline_rl.joblib')"
   ]
  },
  {
   "cell_type": "code",
   "execution_count": 49,
   "id": "2d981f23",
   "metadata": {},
   "outputs": [],
   "source": [
    "# Load pipeline and model\n",
    "pipeline, model = load('/Users/dellacorte/py-projects/data-science/supervised-learning-pipeline-reference/classification/models/pipeline_baseline_rl.joblib')"
   ]
  },
  {
   "cell_type": "markdown",
   "id": "1f9ad763",
   "metadata": {},
   "source": [
    "## Pipeline Examples"
   ]
  },
  {
   "cell_type": "code",
   "execution_count": 50,
   "id": "545bfb95",
   "metadata": {},
   "outputs": [],
   "source": [
    "# creation of the pipeline with the necessary steps\n",
    "# creation of necessary data transformations (preprocessing)\n",
    "# creation of algorithms that will be used as a model\n",
    "data_steps = [\n",
    "                ('onehot_encoder', OneHotEncoder(variables=cat_vars)),\n",
    "                ('std_scaler', SklearnTransformerWrapper(transformer=StandardScaler(), variables=num_vars))\n",
    "]\n",
    "\n",
    "algorithms = [\n",
    "              ('rl', LogisticRegression(random_state=42)),\n",
    "              ('dt', DecisionTreeClassifier(random_state=42)),\n",
    "]"
   ]
  },
  {
   "cell_type": "code",
   "execution_count": 51,
   "id": "d0b3fe52",
   "metadata": {},
   "outputs": [
    {
     "data": {
      "text/plain": [
       "Pipeline(steps=[('onehot_encoder', OneHotEncoder(variables=['uf'])),\n",
       "                ('std_scaler',\n",
       "                 SklearnTransformerWrapper(transformer=StandardScaler(),\n",
       "                                           variables=['tot_orders_12m',\n",
       "                                                      'tot_items_12m',\n",
       "                                                      'tot_items_dist_12m',\n",
       "                                                      'receita_12m',\n",
       "                                                      'recencia'])),\n",
       "                ('rl', LogisticRegression(random_state=42))])"
      ]
     },
     "execution_count": 51,
     "metadata": {},
     "output_type": "execute_result"
    }
   ],
   "source": [
    "# applying model [0]\n",
    "pipeline = Pipeline(steps=data_steps + [algorithms[0]])\n",
    "pipeline"
   ]
  },
  {
   "cell_type": "code",
   "execution_count": 52,
   "id": "6018a6bc",
   "metadata": {},
   "outputs": [
    {
     "data": {
      "text/plain": [
       "Pipeline(steps=[('onehot_encoder', OneHotEncoder(variables=['uf'])),\n",
       "                ('std_scaler',\n",
       "                 SklearnTransformerWrapper(transformer=StandardScaler(),\n",
       "                                           variables=['tot_orders_12m',\n",
       "                                                      'tot_items_12m',\n",
       "                                                      'tot_items_dist_12m',\n",
       "                                                      'receita_12m',\n",
       "                                                      'recencia'])),\n",
       "                ('dt', DecisionTreeClassifier(random_state=42))])"
      ]
     },
     "execution_count": 52,
     "metadata": {},
     "output_type": "execute_result"
    }
   ],
   "source": [
    "# applying the model [1]\n",
    "pipeline = Pipeline(steps=data_steps + [algorithms[1]])\n",
    "pipeline"
   ]
  },
  {
   "cell_type": "markdown",
   "id": "807c95fe",
   "metadata": {},
   "source": [
    "## Applying Stratified K-fold\n",
    "\n",
    "As our problem works with time, and we have a time slip, the best application would be Out-of-time.\n",
    "\n",
    "Similar to Hold-out, but with skf the separation is not random, while Hold-out performs the separation randomly."
   ]
  },
  {
   "cell_type": "code",
   "execution_count": 56,
   "id": "7c24e1be",
   "metadata": {},
   "outputs": [],
   "source": [
    "# first thing would be to separate the sets into train and oot\n",
    "df_train = df_abt.query('data_ref_safra < \"2018-03-01\"')\n",
    "df_oot = df_abt.query('data_ref_safra == \"2018-03-01\"')\n",
    "\n",
    "# Table key variables\n",
    "key_vars = ['data_ref_safra', 'seller_id']\n",
    "\n",
    "# Numeric variables\n",
    "num_vars = ['tot_orders_12m', 'tot_items_12m', 'tot_items_dist_12m', 'receita_12m', 'recencia']\n",
    "\n",
    "# Categorical variables\n",
    "cat_vars = ['uf']\n",
    "\n",
    "# Response/target variable\n",
    "target = 'nao_revendeu_next_6m'\n",
    "\n",
    "# Creating the list with features\n",
    "features = cat_vars + num_vars"
   ]
  },
  {
   "cell_type": "code",
   "execution_count": 57,
   "id": "e0a92d2e",
   "metadata": {},
   "outputs": [],
   "source": [
    "# applying the variables to my training sets\n",
    "X_train = df_train[features]\n",
    "y_train = df_train[target]\n",
    "\n",
    "# applying the variables to my oot sets\n",
    "X_oot = df_oot[features]\n",
    "y_oot = df_oot[target]"
   ]
  },
  {
   "cell_type": "code",
   "execution_count": 58,
   "id": "955203dc",
   "metadata": {},
   "outputs": [],
   "source": [
    "# applying stratified k-fold to X_train\n",
    "X_train\n",
    "pipeline = Pipeline(steps=[\n",
    "                ('onehot_encoder', OneHotEncoder(variables=cat_vars)),\n",
    "                ('std_scaler', SklearnTransformerWrapper(transformer=StandardScaler(), variables=num_vars)),\n",
    "                ('rl', LogisticRegression(random_state=42))\n",
    "])"
   ]
  },
  {
   "cell_type": "code",
   "execution_count": 60,
   "id": "24f0ed94",
   "metadata": {},
   "outputs": [
    {
     "name": "stdout",
     "output_type": "stream",
     "text": [
      "[0.82689557 0.81688126 0.81688126 0.81545064 0.84978541]\n",
      "82.51788268955652\n",
      "1.2967403941201308\n"
     ]
    }
   ],
   "source": [
    "skf = StratifiedKFold(n_splits=5, shuffle=True, random_state=42)\n",
    "\n",
    "cv_results = cross_val_score(estimator=pipeline, X=X_train, y=y_train, scoring=\"accuracy\", cv=skf)\n",
    "\n",
    "print(cv_results)\n",
    "print(cv_results.mean() * 100)\n",
    "print(cv_results.std()  * 100)"
   ]
  },
  {
   "cell_type": "code",
   "execution_count": 61,
   "id": "d0a07ab0",
   "metadata": {},
   "outputs": [
    {
     "data": {
      "text/plain": [
       "Pipeline(steps=[('onehot_encoder', OneHotEncoder(variables=['uf'])),\n",
       "                ('std_scaler',\n",
       "                 SklearnTransformerWrapper(transformer=StandardScaler(),\n",
       "                                           variables=['tot_orders_12m',\n",
       "                                                      'tot_items_12m',\n",
       "                                                      'tot_items_dist_12m',\n",
       "                                                      'receita_12m',\n",
       "                                                      'recencia'])),\n",
       "                ('rl', LogisticRegression(random_state=42))])"
      ]
     },
     "execution_count": 61,
     "metadata": {},
     "output_type": "execute_result"
    }
   ],
   "source": [
    "pipeline.fit(X_train, y_train)"
   ]
  },
  {
   "cell_type": "code",
   "execution_count": 63,
   "id": "3aadcd09",
   "metadata": {},
   "outputs": [
    {
     "name": "stdout",
     "output_type": "stream",
     "text": [
      "Training Accuracy 82.66%\n"
     ]
    }
   ],
   "source": [
    "# resultado na base de treino\n",
    "y_pred_train = pipeline.predict(X_train)\n",
    "acc_train = accuracy_score(y_true=y_train, y_pred=y_pred_train)\n",
    "print(f'Training Accuracy {acc_train * 100:.2f}%')"
   ]
  },
  {
   "cell_type": "code",
   "execution_count": 64,
   "id": "ece1d810",
   "metadata": {},
   "outputs": [
    {
     "name": "stdout",
     "output_type": "stream",
     "text": [
      "Testing/OOT Accuracy 82.55%\n"
     ]
    }
   ],
   "source": [
    "# resultado na base de teste\n",
    "y_pred_oot = pipeline.predict(X_oot)\n",
    "acc_oot = accuracy_score(y_true=y_oot, y_pred=y_pred_oot)\n",
    "print(f'Testing/OOT Accuracy {acc_oot * 100:.2f}%')"
   ]
  },
  {
   "cell_type": "markdown",
   "id": "00c91312",
   "metadata": {},
   "source": [
    "## Calculating metrics\n",
    "\n",
    "The next step is to optimize our model by calculating the metrics"
   ]
  },
  {
   "cell_type": "code",
   "execution_count": 67,
   "id": "e08f3364",
   "metadata": {},
   "outputs": [],
   "source": [
    "skf = StratifiedKFold(n_splits=5, shuffle=True, random_state=42)\n",
    "\n",
    "# applying several metrics to calculate model performance\n",
    "# we are using cross_validate to calculate the metrics\n",
    "cv_results = cross_validate(estimator=pipeline, X=X_train, y=y_train,  scoring=['accuracy', 'precision', 'recall', 'f1', 'roc_auc'], cv=skf)\n",
    "df_cv_results = pd.DataFrame(cv_results)"
   ]
  },
  {
   "cell_type": "code",
   "execution_count": 68,
   "id": "3c786093",
   "metadata": {},
   "outputs": [
    {
     "data": {
      "text/plain": [
       "fit_time          0.034676\n",
       "score_time        0.024265\n",
       "test_accuracy     0.825179\n",
       "test_precision    0.850291\n",
       "test_recall       0.656920\n",
       "test_f1           0.741007\n",
       "test_roc_auc      0.898444\n",
       "dtype: float64"
      ]
     },
     "execution_count": 68,
     "metadata": {},
     "output_type": "execute_result"
    }
   ],
   "source": [
    "# calculating the average\n",
    "df_cv_results.mean()"
   ]
  },
  {
   "cell_type": "code",
   "execution_count": 69,
   "id": "40e1a0f7",
   "metadata": {},
   "outputs": [
    {
     "data": {
      "text/plain": [
       "fit_time          0.009095\n",
       "score_time        0.001971\n",
       "test_accuracy     0.014498\n",
       "test_precision    0.019290\n",
       "test_recall       0.029583\n",
       "test_f1           0.023779\n",
       "test_roc_auc      0.015565\n",
       "dtype: float64"
      ]
     },
     "execution_count": 69,
     "metadata": {},
     "output_type": "execute_result"
    }
   ],
   "source": [
    "# calculating the standard_deviation\n",
    "df_cv_results.std()"
   ]
  },
  {
   "cell_type": "code",
   "execution_count": 70,
   "id": "8cf0b9ad",
   "metadata": {},
   "outputs": [
    {
     "data": {
      "text/plain": [
       "Pipeline(steps=[('onehot_encoder', OneHotEncoder(variables=['uf'])),\n",
       "                ('std_scaler',\n",
       "                 SklearnTransformerWrapper(transformer=StandardScaler(),\n",
       "                                           variables=['tot_orders_12m',\n",
       "                                                      'tot_items_12m',\n",
       "                                                      'tot_items_dist_12m',\n",
       "                                                      'receita_12m',\n",
       "                                                      'recencia'])),\n",
       "                ('rl', LogisticRegression(random_state=42))])"
      ]
     },
     "execution_count": 70,
     "metadata": {},
     "output_type": "execute_result"
    }
   ],
   "source": [
    "pipeline.fit(X_train, y_train)"
   ]
  },
  {
   "cell_type": "code",
   "execution_count": 72,
   "id": "2b74ae36",
   "metadata": {},
   "outputs": [
    {
     "name": "stderr",
     "output_type": "stream",
     "text": [
      "/Users/dellacorte/opt/anaconda3/lib/python3.9/site-packages/sklearn/utils/deprecation.py:87: FutureWarning: Function plot_confusion_matrix is deprecated; Function `plot_confusion_matrix` is deprecated in 1.0 and will be removed in 1.2. Use one of the class methods: ConfusionMatrixDisplay.from_predictions or ConfusionMatrixDisplay.from_estimator.\n",
      "  warnings.warn(msg, category=FutureWarning)\n"
     ]
    },
    {
     "data": {
      "text/plain": [
       "<sklearn.metrics._plot.confusion_matrix.ConfusionMatrixDisplay at 0x7ff1c83b9be0>"
      ]
     },
     "execution_count": 72,
     "metadata": {},
     "output_type": "execute_result"
    },
    {
     "data": {
      "image/png": "[encoded data removed]",
      "text/plain": [
       "<Figure size 640x480 with 2 Axes>"
      ]
     },
     "metadata": {},
     "output_type": "display_data"
    }
   ],
   "source": [
    "# calculating the confusion_matrix\n",
    "plot_confusion_matrix(pipeline, X_train, y_train)"
   ]
  },
  {
   "cell_type": "code",
   "execution_count": 73,
   "id": "dfe58f73",
   "metadata": {},
   "outputs": [
    {
     "name": "stderr",
     "output_type": "stream",
     "text": [
      "/Users/dellacorte/opt/anaconda3/lib/python3.9/site-packages/sklearn/utils/deprecation.py:87: FutureWarning: Function plot_confusion_matrix is deprecated; Function `plot_confusion_matrix` is deprecated in 1.0 and will be removed in 1.2. Use one of the class methods: ConfusionMatrixDisplay.from_predictions or ConfusionMatrixDisplay.from_estimator.\n",
      "  warnings.warn(msg, category=FutureWarning)\n"
     ]
    },
    {
     "data": {
      "text/plain": [
       "<sklearn.metrics._plot.confusion_matrix.ConfusionMatrixDisplay at 0x7ff21b380460>"
      ]
     },
     "execution_count": 73,
     "metadata": {},
     "output_type": "execute_result"
    },
    {
     "data": {
      "image/png": "[encoded data removed]",
      "text/plain": [
       "<Figure size 640x480 with 2 Axes>"
      ]
     },
     "metadata": {},
     "output_type": "display_data"
    }
   ],
   "source": [
    "plot_confusion_matrix(pipeline, X_oot, y_oot, values_format='d')"
   ]
  },
  {
   "cell_type": "code",
   "execution_count": 75,
   "id": "d9047d6b",
   "metadata": {},
   "outputs": [
    {
     "name": "stderr",
     "output_type": "stream",
     "text": [
      "/Users/dellacorte/opt/anaconda3/lib/python3.9/site-packages/sklearn/utils/deprecation.py:87: FutureWarning: Function plot_roc_curve is deprecated; Function :func:`plot_roc_curve` is deprecated in 1.0 and will be removed in 1.2. Use one of the class methods: :meth:`sklearn.metric.RocCurveDisplay.from_predictions` or :meth:`sklearn.metric.RocCurveDisplay.from_estimator`.\n",
      "  warnings.warn(msg, category=FutureWarning)\n"
     ]
    },
    {
     "data": {
      "text/plain": [
       "<sklearn.metrics._plot.roc_curve.RocCurveDisplay at 0x7ff2295182b0>"
      ]
     },
     "execution_count": 75,
     "metadata": {},
     "output_type": "execute_result"
    },
    {
     "data": {
      "image/png": "[encoded data removed]",
      "text/plain": [
       "<Figure size 640x480 with 1 Axes>"
      ]
     },
     "metadata": {},
     "output_type": "display_data"
    }
   ],
   "source": [
    "# applying roc_curve\n",
    "plot_roc_curve(pipeline, X_oot, y_oot)"
   ]
  },
  {
   "cell_type": "code",
   "execution_count": 77,
   "id": "05633628",
   "metadata": {},
   "outputs": [
    {
     "name": "stdout",
     "output_type": "stream",
     "text": [
      "              precision    recall  f1-score   support\n",
      "\n",
      "           0       0.82      0.91      0.87      1153\n",
      "           1       0.83      0.69      0.75       721\n",
      "\n",
      "    accuracy                           0.83      1874\n",
      "   macro avg       0.83      0.80      0.81      1874\n",
      "weighted avg       0.83      0.83      0.82      1874\n",
      "\n"
     ]
    }
   ],
   "source": [
    "# applying classification_report to analyze metrics data\n",
    "print(classification_report(y_oot, pipeline.predict(X_oot)))"
   ]
  },
  {
   "cell_type": "code",
   "execution_count": 80,
   "id": "724f8f8a",
   "metadata": {},
   "outputs": [
    {
     "name": "stdout",
     "output_type": "stream",
     "text": [
      "Accuracy (Training): 0.8266094420600858\n",
      "Accuracy (Test): 0.8255069370330843\n",
      "====================================\n",
      "Balanced Accuracy (Training): 0.7941547650285514\n",
      "Balanced Accuracy (Test): 0.7994744458465103\n",
      "====================================\n",
      "Precision (Training): 0.8538011695906432\n",
      "Precision (Test): 0.8305369127516778\n",
      "====================================\n",
      "Recall (Training): 0.6576576576576577\n",
      "Recall (Test): 0.6865464632454924\n",
      "====================================\n",
      "F1-Score (Training): 0.7430025445292621\n",
      "F1-Score (Test): 0.7517084282460137\n",
      "====================================\n",
      "ROCAUC (Training): 0.9013248685578783\n",
      "ROCAUC (Test): 0.8968499229532076\n"
     ]
    }
   ],
   "source": [
    "# applying metrics individually\n",
    "print(f\"Accuracy (Training): {accuracy_score(y_train, pipeline.predict(X_train))}\")\n",
    "print(f\"Accuracy (Test): {accuracy_score(y_oot, pipeline.predict(X_oot))}\")\n",
    "print(\"====================================\")\n",
    "print(f\"Balanced Accuracy (Training): {balanced_accuracy_score(y_train, pipeline.predict(X_train))}\")\n",
    "print(f\"Balanced Accuracy (Test): {balanced_accuracy_score(y_oot, pipeline.predict(X_oot))}\")\n",
    "print(\"====================================\")\n",
    "print(f\"Precision (Training): {precision_score(y_train, pipeline.predict(X_train))}\")\n",
    "print(f\"Precision (Test): {precision_score(y_oot, pipeline.predict(X_oot))}\")\n",
    "print(\"====================================\")\n",
    "print(f\"Recall (Training): {recall_score(y_train, pipeline.predict(X_train))}\")\n",
    "print(f\"Recall (Test): {recall_score(y_oot, pipeline.predict(X_oot))}\")\n",
    "print(\"====================================\")\n",
    "print(f\"F1-Score (Training): {f1_score(y_train, pipeline.predict(X_train))}\")\n",
    "print(f\"F1-Score (Test): {f1_score(y_oot, pipeline.predict(X_oot))}\")\n",
    "print(\"====================================\")\n",
    "print(f\"ROCAUC (Training): {roc_auc_score(y_train, pipeline.predict_proba(X_train)[:,1])}\")\n",
    "print(f\"ROCAUC (Test): {roc_auc_score(y_oot, pipeline.predict_proba(X_oot)[:,1])}\")"
   ]
  },
  {
   "cell_type": "code",
   "execution_count": 81,
   "id": "b6a867e4",
   "metadata": {},
   "outputs": [],
   "source": [
    "lr_model_pipe = pipeline"
   ]
  },
  {
   "cell_type": "code",
   "execution_count": 82,
   "id": "465f083d",
   "metadata": {},
   "outputs": [
    {
     "data": {
      "text/html": [
       "<div>\n",
       "<style scoped>\n",
       "    .dataframe tbody tr th:only-of-type {\n",
       "        vertical-align: middle;\n",
       "    }\n",
       "\n",
       "    .dataframe tbody tr th {\n",
       "        vertical-align: top;\n",
       "    }\n",
       "\n",
       "    .dataframe thead th {\n",
       "        text-align: right;\n",
       "    }\n",
       "</style>\n",
       "<table border=\"1\" class=\"dataframe\">\n",
       "  <thead>\n",
       "    <tr style=\"text-align: right;\">\n",
       "      <th></th>\n",
       "      <th>model</th>\n",
       "      <th>mode</th>\n",
       "      <th>accuracy</th>\n",
       "      <th>balanced_accuracy</th>\n",
       "      <th>precision</th>\n",
       "      <th>recall</th>\n",
       "      <th>f1_score</th>\n",
       "      <th>rocauc</th>\n",
       "    </tr>\n",
       "  </thead>\n",
       "  <tbody>\n",
       "    <tr>\n",
       "      <th>0</th>\n",
       "      <td>Logistic Regression</td>\n",
       "      <td>training</td>\n",
       "      <td>0.826609</td>\n",
       "      <td>0.794155</td>\n",
       "      <td>0.853801</td>\n",
       "      <td>0.657658</td>\n",
       "      <td>0.743003</td>\n",
       "      <td>0.901325</td>\n",
       "    </tr>\n",
       "    <tr>\n",
       "      <th>1</th>\n",
       "      <td>Logistic Regression</td>\n",
       "      <td>oot</td>\n",
       "      <td>0.825507</td>\n",
       "      <td>0.799474</td>\n",
       "      <td>0.830537</td>\n",
       "      <td>0.686546</td>\n",
       "      <td>0.751708</td>\n",
       "      <td>0.896850</td>\n",
       "    </tr>\n",
       "  </tbody>\n",
       "</table>\n",
       "</div>"
      ],
      "text/plain": [
       "                 model      mode  accuracy  balanced_accuracy  precision  \\\n",
       "0  Logistic Regression  training  0.826609           0.794155   0.853801   \n",
       "1  Logistic Regression       oot  0.825507           0.799474   0.830537   \n",
       "\n",
       "     recall  f1_score    rocauc  \n",
       "0  0.657658  0.743003  0.901325  \n",
       "1  0.686546  0.751708  0.896850  "
      ]
     },
     "execution_count": 82,
     "metadata": {},
     "output_type": "execute_result"
    }
   ],
   "source": [
    "metrics = {\n",
    "    'model': ['Logistic Regression', 'Logistic Regression'],\n",
    "    'mode': ['training', 'oot'],\n",
    "    'accuracy': [accuracy_score(y_train, lr_model_pipe.predict(X_train)), accuracy_score(y_oot, lr_model_pipe.predict(X_oot))],\n",
    "    'balanced_accuracy': [balanced_accuracy_score(y_train, lr_model_pipe.predict(X_train)), balanced_accuracy_score(y_oot, lr_model_pipe.predict(X_oot))],\n",
    "    'precision': [precision_score(y_train, lr_model_pipe.predict(X_train)), precision_score(y_oot, lr_model_pipe.predict(X_oot))],\n",
    "    'recall': [recall_score(y_train, lr_model_pipe.predict(X_train)), recall_score(y_oot, lr_model_pipe.predict(X_oot))],\n",
    "    'f1_score': [f1_score(y_train, lr_model_pipe.predict(X_train)), f1_score(y_oot, lr_model_pipe.predict(X_oot))],\n",
    "    'rocauc': [roc_auc_score(y_train, lr_model_pipe.predict_proba(X_train)[:,1]), roc_auc_score(y_oot, lr_model_pipe.predict_proba(X_oot)[:,1])]\n",
    "\n",
    "}\n",
    "\n",
    "pd.DataFrame(metrics)"
   ]
  },
  {
   "cell_type": "code",
   "execution_count": null,
   "id": "d699bf59",
   "metadata": {},
   "outputs": [],
   "source": [
    "#"
   ]
  }
 ],
 "metadata": {
  "kernelspec": {
   "display_name": "Python 3 (ipykernel)",
   "language": "python",
   "name": "python3"
  },
  "language_info": {
   "codemirror_mode": {
    "name": "ipython",
    "version": 3
   },
   "file_extension": ".py",
   "mimetype": "text/x-python",
   "name": "python",
   "nbconvert_exporter": "python",
   "pygments_lexer": "ipython3",
   "version": "3.9.13"
  }
 },
 "nbformat": 4,
 "nbformat_minor": 5
}
